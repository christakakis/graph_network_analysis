{
  "cells": [
    {
      "cell_type": "code",
      "execution_count": null,
      "metadata": {},
      "outputs": [],
      "source": [
        "'''\n",
        "Panagiotis Christakakis\n",
        "'''"
      ]
    },
    {
      "attachments": {},
      "cell_type": "markdown",
      "metadata": {
        "id": "ZG2DslRvQjLE"
      },
      "source": [
        "**Process before calculating metrics**"
      ]
    },
    {
      "cell_type": "code",
      "execution_count": 1,
      "metadata": {
        "id": "aPQ4xYk-RSZj"
      },
      "outputs": [],
      "source": [
        "# Import Libraries\n",
        "\n",
        "import random\n",
        "import numpy as np\n",
        "import networkx as nx\n",
        "import matplotlib.pyplot as plt\n",
        "import matplotlib as mpl\n",
        "%matplotlib inline"
      ]
    },
    {
      "cell_type": "code",
      "execution_count": 108,
      "metadata": {
        "id": "lVuI_Kztb6t8"
      },
      "outputs": [],
      "source": [
        "# Import Gnutella p2p Network from txt file\n",
        "\n",
        "G = nx.read_edgelist('./p2p-Gnutella05.txt', comments='#',\n",
        "                     create_using=nx.DiGraph, \n",
        "                     delimiter='\\t', \n",
        "                     nodetype=int, \n",
        "                     encoding='utf-8')"
      ]
    },
    {
      "cell_type": "code",
      "execution_count": 101,
      "metadata": {
        "id": "kpnxgsw3bpSI"
      },
      "outputs": [],
      "source": [
        "# Import Quantum Cosmology collaboration Network from txt file\n",
        "\n",
        "G = nx.read_edgelist('./CA-GrQc.txt', comments='#',\n",
        "                     create_using=nx.DiGraph(), \n",
        "                     delimiter='\\t', \n",
        "                     nodetype=int, \n",
        "                     encoding='utf-8')"
      ]
    },
    {
      "cell_type": "code",
      "execution_count": 42,
      "metadata": {
        "id": "UbQyGD2K1Ufc"
      },
      "outputs": [],
      "source": [
        "# Define number of N that will represent\n",
        "# the total number of nodes when trying to\n",
        "# generate synthetic networks.\n",
        "\n",
        "n = 5200"
      ]
    },
    {
      "cell_type": "code",
      "execution_count": 43,
      "metadata": {
        "id": "XgJIPdK3k9TC"
      },
      "outputs": [],
      "source": [
        "# Create a Erdős-Renyi Network\n",
        "\n",
        "G = nx.erdos_renyi_graph(n, 0.002174, seed = 42, directed = False)"
      ]
    },
    {
      "cell_type": "code",
      "execution_count": 58,
      "metadata": {
        "id": "uOdcR2Ri8r5E"
      },
      "outputs": [],
      "source": [
        "# Create a Watts & Strogatz Network\n",
        "\n",
        "G = nx.watts_strogatz_graph(n, 11, 0.2, seed = 42)"
      ]
    },
    {
      "cell_type": "code",
      "execution_count": 74,
      "metadata": {
        "id": "FQ716a5xeMRI"
      },
      "outputs": [],
      "source": [
        "# Create a Barabasi-Albert Network\n",
        "\n",
        "G = nx.barabasi_albert_graph(n, 5, seed = 42, initial_graph = None)"
      ]
    },
    {
      "cell_type": "code",
      "execution_count": 85,
      "metadata": {
        "id": "fPi_Ra8AeMPO"
      },
      "outputs": [],
      "source": [
        "# Create a Barabasi-Albert Network and convert to directed\n",
        "\n",
        "G = nx.barabasi_albert_graph(n, 3, seed = 42, initial_graph = None)\n",
        "\n",
        "# Convert the network to directed\n",
        "G = nx.to_directed(G)\n",
        "\n",
        "# When converting a undirected to directed using NetworkX\n",
        "# all edges become reciprocated so deleting random edges\n",
        "# will also help to reduce the total number of edges in \n",
        "# order to meet the properties of the second model.\n",
        "\n",
        "# Ignore some warnings produced from Random function\n",
        "import warnings\n",
        "warnings.filterwarnings(\"ignore\", category=DeprecationWarning)\n",
        "\n",
        "ListOfEdges = G.edges()\n",
        "sample = 2202\n",
        "RandomSample = random.sample(ListOfEdges, sample)\n",
        "\n",
        "# Create a copy of the created network to be \n",
        "# able to delete the randomly picked edges.\n",
        "G = G.copy()\n",
        "G.remove_edges_from(RandomSample)"
      ]
    },
    {
      "attachments": {},
      "cell_type": "markdown",
      "metadata": {
        "id": "g6TRjnWMQxzL"
      },
      "source": [
        "**Calculating metrics**"
      ]
    },
    {
      "cell_type": "code",
      "execution_count": 109,
      "metadata": {
        "colab": {
          "base_uri": "https://localhost:8080/"
        },
        "id": "IKJx9jqzSaqS",
        "outputId": "53800777-73f7-4109-d66f-a10a737cfe53"
      },
      "outputs": [
        {
          "name": "stdout",
          "output_type": "stream",
          "text": [
            "Number of nodes:  8846\n"
          ]
        }
      ],
      "source": [
        "# Number of nodes\n",
        "\n",
        "numNodes = len(G)\n",
        "print(\"Number of nodes: \", numNodes)"
      ]
    },
    {
      "cell_type": "code",
      "execution_count": 110,
      "metadata": {
        "colab": {
          "base_uri": "https://localhost:8080/"
        },
        "id": "KfNOxNjBSaso",
        "outputId": "f2333314-f101-4345-971b-479ab443afa5"
      },
      "outputs": [
        {
          "name": "stdout",
          "output_type": "stream",
          "text": [
            "0\n"
          ]
        }
      ],
      "source": [
        "# Number of nodes with self-loops\n",
        "\n",
        "selfLoops = nx.number_of_selfloops(G) \n",
        "print(selfLoops)"
      ]
    },
    {
      "cell_type": "code",
      "execution_count": 111,
      "metadata": {
        "colab": {
          "base_uri": "https://localhost:8080/"
        },
        "id": "R3STw98eTfdV",
        "outputId": "38469502-9b85-4b73-be6f-531fb1db1692"
      },
      "outputs": [
        {
          "name": "stdout",
          "output_type": "stream",
          "text": [
            "Number of edges:  31839\n"
          ]
        }
      ],
      "source": [
        "# Number of edges\n",
        "\n",
        "numEdges = G.size()\n",
        "print(\"Number of edges: \", numEdges)"
      ]
    },
    {
      "cell_type": "code",
      "execution_count": 112,
      "metadata": {
        "colab": {
          "base_uri": "https://localhost:8080/"
        },
        "id": "pI29t5pMSazK",
        "outputId": "b2a0acae-19a1-4033-f221-6ae8fd6c7cc3"
      },
      "outputs": [
        {
          "name": "stdout",
          "output_type": "stream",
          "text": [
            "Number of reciprocated edges:  0.0\n"
          ]
        }
      ],
      "source": [
        "# Num of reciprocated edges\n",
        "\n",
        "# First way\n",
        "recipro = nx.reciprocity(G)\n",
        "print(\"Number of reciprocated edges: \", recipro * numEdges)\n",
        "\n",
        "# # Second Way\n",
        "# # Obtained from the source code of networkx.algorithms.reciprocity\n",
        "# n_all_edge = G.number_of_edges()\n",
        "# n_overlap_edge = (n_all_edge - G.to_undirected().number_of_edges()) * 2\n",
        "# print(\"Number of reciprocated edges: \", n_overlap_edge)\n",
        "\n",
        "# # Third way (doesn't work always right for some reason)\n",
        "# # Checking if the reverse edge exists while iterating over the edges\n",
        "# numReciproEdges = [(u,v,d) for (u,v,d) in G.edges(data=True) if G.has_edge(v,u)]\n",
        "# print(\"Number of reciprocated edges: \", len(numReciproEdges))"
      ]
    },
    {
      "cell_type": "code",
      "execution_count": 113,
      "metadata": {
        "colab": {
          "base_uri": "https://localhost:8080/"
        },
        "id": "GXHpfd12SwY_",
        "outputId": "311bad01-bbfc-4f36-e6c6-674ff48875a9"
      },
      "outputs": [
        {
          "name": "stdout",
          "output_type": "stream",
          "text": [
            "Number of Sink Nodes:  4996\n",
            "Number of Source Nodes:  118\n"
          ]
        }
      ],
      "source": [
        "# Num of sink & source nodes\n",
        "# Only calculated for directed graphs\n",
        "\n",
        "numOfSinkNodes = [node for node in G.nodes if G.out_degree(node) == 0]\n",
        "print(\"Number of Sink Nodes: \", len(numOfSinkNodes))\n",
        "\n",
        "numOfSourceNodes = [node for node in G.nodes if G.in_degree(node) == 0]\n",
        "print(\"Number of Source Nodes: \", len(numOfSourceNodes))"
      ]
    },
    {
      "cell_type": "code",
      "execution_count": 114,
      "metadata": {
        "colab": {
          "base_uri": "https://localhost:8080/"
        },
        "id": "T4OMFqZXSwXW",
        "outputId": "ca0c184b-0127-41a6-9d1e-e3d8257fd62d"
      },
      "outputs": [
        {
          "name": "stdout",
          "output_type": "stream",
          "text": [
            "Maximum degree:  88\n",
            "Minimum degree:  1\n",
            "Average degree:  7.198507800135655\n"
          ]
        }
      ],
      "source": [
        "# Max, min, avg Degree\n",
        "\n",
        "degrees = [G.degree(node) for node in G]\n",
        "\n",
        "kMin = min(degrees)\n",
        "kMax = max(degrees)\n",
        "\n",
        "print(\"Maximum degree: \", kMax)\n",
        "print(\"Minimum degree: \", kMin)\n",
        "print(\"Average degree: \", np.mean(degrees))"
      ]
    },
    {
      "cell_type": "code",
      "execution_count": 115,
      "metadata": {
        "colab": {
          "base_uri": "https://localhost:8080/"
        },
        "id": "_NkjtZ1jEzWB",
        "outputId": "569af066-4354-4587-9974-df7b016def84"
      },
      "outputs": [
        {
          "name": "stdout",
          "output_type": "stream",
          "text": [
            "Maximum degree:  79\n",
            "Minimum degree:  0\n",
            "Average degree:  3.5992539000678274\n"
          ]
        }
      ],
      "source": [
        "# Max, min, avg inDegree\n",
        "# Only calculated for directed graphs\n",
        "\n",
        "inDegrees = [G.in_degree(node) for node in G]\n",
        "\n",
        "kMinInDegree = min(inDegrees)\n",
        "kMaxInDegree = max(inDegrees)\n",
        "\n",
        "print(\"Maximum degree: \", kMaxInDegree)\n",
        "print(\"Minimum degree: \", kMinInDegree)\n",
        "print(\"Average degree: \", np.mean(inDegrees))"
      ]
    },
    {
      "cell_type": "code",
      "execution_count": 116,
      "metadata": {
        "colab": {
          "base_uri": "https://localhost:8080/"
        },
        "id": "usgjrFs5FIRM",
        "outputId": "6dbf2420-4585-45ba-b369-dd33e89e856b"
      },
      "outputs": [
        {
          "name": "stdout",
          "output_type": "stream",
          "text": [
            "Maximum degree:  65\n",
            "Minimum degree:  0\n",
            "Average degree:  3.5992539000678274\n"
          ]
        }
      ],
      "source": [
        "# Max, min, avg outDegree\n",
        "# Only calculated for directed graphs\n",
        "\n",
        "outDegrees = [G.out_degree(node) for node in G]\n",
        "\n",
        "kMinOutDegree = min(outDegrees)\n",
        "kMaxOutDegree = max(outDegrees)\n",
        "\n",
        "print(\"Maximum degree: \", kMaxOutDegree)\n",
        "print(\"Minimum degree: \", kMinOutDegree)\n",
        "print(\"Average degree: \", np.mean(outDegrees))"
      ]
    },
    {
      "cell_type": "code",
      "execution_count": 117,
      "metadata": {
        "colab": {
          "base_uri": "https://localhost:8080/"
        },
        "id": "vnuwv8_hSwNb",
        "outputId": "a45558fc-8560-446b-b2d9-8d88f7e32702"
      },
      "outputs": [
        {
          "name": "stdout",
          "output_type": "stream",
          "text": [
            "Diameter based on longest connected component:  22\n"
          ]
        }
      ],
      "source": [
        "# Diameter of graph \n",
        "\n",
        "diameter = max([max(j.values()) for (i,j) in nx.shortest_path_length(G)])\n",
        "print(\"Diameter based on longest connected component: \", diameter)"
      ]
    },
    {
      "cell_type": "code",
      "execution_count": 118,
      "metadata": {
        "colab": {
          "base_uri": "https://localhost:8080/"
        },
        "id": "2muEI8C_TC6H",
        "outputId": "be4d0b87-869d-4944-8d9e-ff999275ec82"
      },
      "outputs": [
        {
          "name": "stdout",
          "output_type": "stream",
          "text": [
            "Average Clustering Coefficient:  0.003600532835551549\n",
            "Global Clustering Coefficient:  0.0037461513333935685\n"
          ]
        }
      ],
      "source": [
        "# Avg clustering coefficient & global clustering coefficient\n",
        "\n",
        "print(\"Average Clustering Coefficient: \", nx.average_clustering(G))\n",
        "print(\"Global Clustering Coefficient: \", nx.transitivity(G))\n",
        "\n",
        "# # Otherwise average clustering can be computed with the following\n",
        "# tempSum = 0\n",
        "# for i in range(0, len(nx.clustering(G))):\n",
        "#   tempSum += nx.clustering(G, i)\n",
        "# print(\"Average Clustering Coefficient: \", tempSum/numNodes)"
      ]
    },
    {
      "cell_type": "code",
      "execution_count": 119,
      "metadata": {
        "colab": {
          "base_uri": "https://localhost:8080/"
        },
        "id": "RhpmQo-cTC4W",
        "outputId": "625728ae-ac93-409d-b516-5e9af5a226cd"
      },
      "outputs": [
        {
          "name": "stdout",
          "output_type": "stream",
          "text": [
            "13453\n"
          ]
        }
      ],
      "source": [
        "# Size of Largest Strongly Connected Component\n",
        "# Only calculated for directed graphs\n",
        "\n",
        "# For only finding the largest component, computing with the use\n",
        "# of max function rather than sort function is a more efficient way.\n",
        "# We'd rather have max which is O(n), rather than sorting with O(n log n).\n",
        "strongComp = max(nx.strongly_connected_components(G), key=len)\n",
        "strongCompSubGraph = G.subgraph(strongComp)\n",
        "print(strongCompSubGraph.size())"
      ]
    },
    {
      "cell_type": "code",
      "execution_count": 120,
      "metadata": {
        "colab": {
          "base_uri": "https://localhost:8080/"
        },
        "id": "K_zMoWUtc8-Q",
        "outputId": "a06f33b4-2afb-4141-eed9-8c35f8c99ec5"
      },
      "outputs": [
        {
          "name": "stdout",
          "output_type": "stream",
          "text": [
            "31837\n"
          ]
        }
      ],
      "source": [
        "# Size of Largest Weakly Connected Component\n",
        "# Only calculated for directed graphs\n",
        "\n",
        "# For only finding the largest component, computing with the use\n",
        "# of max function rather than sort function is a more efficient way.\n",
        "# We'd rather have max which is O(n), rather than sorting with O(n log n).\n",
        "weakComp = max(nx.weakly_connected_components(G), key=len)\n",
        "weakCompSubGraph = G.subgraph(weakComp)\n",
        "print(weakCompSubGraph.size())"
      ]
    },
    {
      "attachments": {},
      "cell_type": "markdown",
      "metadata": {
        "id": "l0qqjtCOPup_"
      },
      "source": [
        "**Plotting Degree Distribution**"
      ]
    },
    {
      "cell_type": "code",
      "execution_count": 121,
      "metadata": {
        "id": "VVEcT9qgN6hY"
      },
      "outputs": [],
      "source": [
        "# Plot Using the networkX degree_histogram function\n",
        "# plot_degree_histogram function can be found here:\n",
        "# https://stackoverflow.com/a/65051406/15172593\n",
        "\n",
        "def plot_degree_histogram(g, normalized=True):\n",
        "    print(\"Creating histogram...\")\n",
        "    aux_y = nx.degree_histogram(g)\n",
        "    \n",
        "    aux_x = np.arange(0,len(aux_y)).tolist()\n",
        "    \n",
        "    n_nodes = g.number_of_nodes()\n",
        "    \n",
        "    if normalized:\n",
        "        for i in range(len(aux_y)):\n",
        "            aux_y[i] = aux_y[i]/n_nodes\n",
        "    \n",
        "    return aux_x, aux_y"
      ]
    },
    {
      "cell_type": "code",
      "execution_count": 122,
      "metadata": {
        "colab": {
          "base_uri": "https://localhost:8080/",
          "height": 357
        },
        "id": "UwFWbSkmFRq3",
        "outputId": "2fade216-0d9e-44f5-d8ae-cfff494c24ef"
      },
      "outputs": [
        {
          "name": "stdout",
          "output_type": "stream",
          "text": [
            "Creating histogram...\n"
          ]
        },
        {
          "data": {
            "text/plain": [
              "[<matplotlib.lines.Line2D at 0x7f03cce37460>]"
            ]
          },
          "execution_count": 122,
          "metadata": {},
          "output_type": "execute_result"
        },
        {
          "data": {
            "image/png": "[encoded data removed]",
            "text/plain": [
              "<Figure size 432x288 with 1 Axes>"
            ]
          },
          "metadata": {
            "needs_background": "light"
          },
          "output_type": "display_data"
        }
      ],
      "source": [
        "# Plotting Degree Distribution for Linear Scale\n",
        "\n",
        "plt.title('\\nDistribution Of Node Linkages (linear scale)')\n",
        "plt.xlabel('Degree\\n(Linear scale)')\n",
        "plt.ylabel('Number of Nodes\\n(linear scale)')\n",
        "plt.xscale(\"linear\")\n",
        "plt.yscale(\"linear\")\n",
        "aux_x, aux_y = plot_degree_histogram(G)\n",
        "plt.plot(aux_x, aux_y, 'o')"
      ]
    },
    {
      "cell_type": "code",
      "execution_count": 123,
      "metadata": {
        "colab": {
          "base_uri": "https://localhost:8080/",
          "height": 361
        },
        "id": "7U5_JyKRMYAU",
        "outputId": "3b7fbe9b-08d3-48b3-b06b-d66c341b84a8"
      },
      "outputs": [
        {
          "name": "stdout",
          "output_type": "stream",
          "text": [
            "Creating histogram...\n"
          ]
        },
        {
          "data": {
            "text/plain": [
              "[<matplotlib.lines.Line2D at 0x7f03ccebddf0>]"
            ]
          },
          "execution_count": 123,
          "metadata": {},
          "output_type": "execute_result"
        },
        {
          "data": {
            "image/png": "[encoded data removed]",
            "text/plain": [
              "<Figure size 432x288 with 1 Axes>"
            ]
          },
          "metadata": {
            "needs_background": "light"
          },
          "output_type": "display_data"
        }
      ],
      "source": [
        "# Plotting Degree Distribution for Log Scale\n",
        "\n",
        "plt.title('\\nDistribution Of Node Linkages (log-log scale)')\n",
        "plt.xlabel('Degree\\n(log scale)')\n",
        "plt.ylabel('Number of Nodes\\n(log scale)')\n",
        "plt.xscale(\"log\")\n",
        "plt.yscale(\"log\")\n",
        "aux_x, aux_y = plot_degree_histogram(G)\n",
        "plt.plot(aux_x, aux_y, 'o')"
      ]
    },
    {
      "cell_type": "code",
      "execution_count": 124,
      "metadata": {
        "colab": {
          "base_uri": "https://localhost:8080/",
          "height": 368
        },
        "id": "BmmzHwRrPPlN",
        "outputId": "6a743b9b-c3ad-42ea-c291-a109a28d1bc5"
      },
      "outputs": [
        {
          "name": "stderr",
          "output_type": "stream",
          "text": [
            "<ipython-input-124-90ecd325d9a7>:32: RuntimeWarning: invalid value encountered in true_divide\n",
            "  bin_means_x = (np.histogram(data_x, bins, weights=data_x)[0] /np.histogram(data_x, bins)[0])\n",
            "<ipython-input-124-90ecd325d9a7>:33: RuntimeWarning: invalid value encountered in true_divide\n",
            "  bin_means_y = (np.histogram(data_y, bins, weights=data_y)[0] /np.histogram(data_y, bins)[0])\n"
          ]
        },
        {
          "data": {
            "image/png": "[encoded data removed]",
            "text/plain": [
              "<Figure size 432x288 with 1 Axes>"
            ]
          },
          "metadata": {
            "needs_background": "light"
          },
          "output_type": "display_data"
        }
      ],
      "source": [
        "# Plot log binning Degree Distribution\n",
        "# Functions and code can be found here:\n",
        "# https://stackoverflow.com/a/65052928/15172593\n",
        "\n",
        "\n",
        "from collections import Counter\n",
        "import math\n",
        "import networkx as nx\n",
        "#import matplotlib as mpl\n",
        "import matplotlib.pyplot as plt\n",
        "import numpy as np\n",
        "\n",
        "\n",
        "def drop_zeros(a_list):\n",
        "    return [i for i in a_list if i>0]\n",
        "\n",
        "\n",
        "def log_binning(counter_dict, bin_count=35):\n",
        "    \n",
        "    max_x = math.log10(max(counter_dict.keys()))\n",
        "    max_y = math.log10(max(counter_dict.values()))\n",
        "    max_base = max([max_x, max_y])\n",
        "    \n",
        "    min_x = math.log10(min(drop_zeros(counter_dict.keys())))\n",
        "    \n",
        "    bins = np.logspace(min_x, max_base, num=bin_count)\n",
        "    \n",
        "    data_x = np.array(list(counter_dict.keys()))\n",
        "    data_y = np.array(list(counter_dict.values()))\n",
        "    \n",
        "    \n",
        "    bin_means_x = (np.histogram(data_x, bins, weights=data_x)[0] /np.histogram(data_x, bins)[0])\n",
        "    bin_means_y = (np.histogram(data_y, bins, weights=data_y)[0] /np.histogram(data_y, bins)[0])\n",
        "    return bin_means_x, bin_means_y\n",
        "\n",
        "\n",
        "ba_c = nx.degree_centrality(G)\n",
        "# To convert normalized degrees to raw degrees\n",
        "ba_c2 = dict(Counter(ba_c.values()))\n",
        "\n",
        "ba_x,ba_y = log_binning(ba_c2,50)\n",
        "\n",
        "plt.xscale(\"log\")\n",
        "plt.yscale(\"log\")\n",
        "\n",
        "plt.scatter(ba_x,ba_y,c='r',marker='s',s=50)\n",
        "plt.scatter(ba_c2.keys(),ba_c2.values(),c='b',marker='x')\n",
        "\n",
        "plt.xlim((1e-4,1e-1))\n",
        "plt.ylim((.9,1e4))\n",
        "\n",
        "plt.title('Log Binning Degree Distribution')\n",
        "plt.xlabel('Connections (normalized)')\n",
        "plt.ylabel('Frequency')\n",
        "\n",
        "plt.show()"
      ]
    }
  ],
  "metadata": {
    "colab": {
      "provenance": []
    },
    "kernelspec": {
      "display_name": "Python 3",
      "name": "python3"
    },
    "language_info": {
      "name": "python"
    }
  },
  "nbformat": 4,
  "nbformat_minor": 0
}
