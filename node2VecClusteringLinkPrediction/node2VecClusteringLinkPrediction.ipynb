{
  "cells": [
    {
      "attachments": {},
      "cell_type": "markdown",
      "metadata": {},
      "source": [
        "'''\n",
        "Panagiotis Christakakis\n",
        "'''"
      ]
    },
    {
      "attachments": {},
      "cell_type": "markdown",
      "metadata": {
        "id": "Jnz1We77xcaJ"
      },
      "source": [
        "# **Node Embeddings - (1) Link Prediction & (2) Clustering**"
      ]
    },
    {
      "attachments": {},
      "cell_type": "markdown",
      "metadata": {
        "id": "s-DhP7PvxqEi"
      },
      "source": [
        "## Libraries"
      ]
    },
    {
      "cell_type": "code",
      "execution_count": null,
      "metadata": {
        "colab": {
          "base_uri": "https://localhost:8080/"
        },
        "id": "yX-5IzQPIzul",
        "outputId": "b3a64102-fd51-490b-d50d-b002e2402b49"
      },
      "outputs": [
        {
          "name": "stdout",
          "output_type": "stream",
          "text": [
            "Looking in indexes: https://pypi.org/simple, https://us-python.pkg.dev/colab-wheels/public/simple/\n",
            "Collecting node2vec\n",
            "  Downloading node2vec-0.4.6-py3-none-any.whl (7.0 kB)\n",
            "Requirement already satisfied: gensim<5.0.0,>=4.1.2 in /usr/local/lib/python3.10/dist-packages (from node2vec) (4.3.1)\n",
            "Requirement already satisfied: joblib<2.0.0,>=1.1.0 in /usr/local/lib/python3.10/dist-packages (from node2vec) (1.2.0)\n",
            "Collecting networkx<3.0,>=2.5 (from node2vec)\n",
            "  Downloading networkx-2.8.8-py3-none-any.whl (2.0 MB)\n",
            "\u001b[2K     \u001b[90m━━━━━━━━━━━━━━━━━━━━━━━━━━━━━━━━━━━━━━━━\u001b[0m \u001b[32m2.0/2.0 MB\u001b[0m \u001b[31m62.7 MB/s\u001b[0m eta \u001b[36m0:00:00\u001b[0m\n",
            "\u001b[?25hRequirement already satisfied: numpy<2.0.0,>=1.19.5 in /usr/local/lib/python3.10/dist-packages (from node2vec) (1.22.4)\n",
            "Requirement already satisfied: tqdm<5.0.0,>=4.55.1 in /usr/local/lib/python3.10/dist-packages (from node2vec) (4.65.0)\n",
            "Requirement already satisfied: scipy>=1.7.0 in /usr/local/lib/python3.10/dist-packages (from gensim<5.0.0,>=4.1.2->node2vec) (1.10.1)\n",
            "Requirement already satisfied: smart-open>=1.8.1 in /usr/local/lib/python3.10/dist-packages (from gensim<5.0.0,>=4.1.2->node2vec) (6.3.0)\n",
            "Installing collected packages: networkx, node2vec\n",
            "  Attempting uninstall: networkx\n",
            "    Found existing installation: networkx 3.1\n",
            "    Uninstalling networkx-3.1:\n",
            "      Successfully uninstalled networkx-3.1\n",
            "Successfully installed networkx-2.8.8 node2vec-0.4.6\n"
          ]
        }
      ],
      "source": [
        "!pip install node2vec"
      ]
    },
    {
      "cell_type": "code",
      "execution_count": null,
      "metadata": {
        "id": "dMNPLwowVMKU"
      },
      "outputs": [],
      "source": [
        "# Import Libraries\n",
        "import pandas as pd\n",
        "import seaborn as sns\n",
        "import numpy as np\n",
        "import networkx as nx\n",
        "import itertools as it\n",
        "from networkx.algorithms import community as cm\n",
        "import matplotlib.pyplot as plt\n",
        "from itertools import product\n",
        "from node2vec import Node2Vec\n",
        "\n",
        "from sklearn.manifold import TSNE\n",
        "from sklearn.metrics import accuracy_score\n",
        "from sklearn.cluster import KMeans\n",
        "from sklearn.ensemble import GradientBoostingClassifier\n",
        "from sklearn.neighbors import KNeighborsClassifier\n",
        "from sklearn.model_selection import train_test_split\n",
        "from sklearn.metrics import accuracy_score, classification_report\n",
        "from sklearn.metrics.pairwise import cosine_similarity"
      ]
    },
    {
      "attachments": {},
      "cell_type": "markdown",
      "metadata": {
        "id": "T-WQJp7LyT2J"
      },
      "source": [
        "## Functions"
      ]
    },
    {
      "cell_type": "code",
      "execution_count": 11,
      "metadata": {
        "id": "lXcHLtOxVggT"
      },
      "outputs": [],
      "source": [
        "def model_to_dataframe(model, graph):\n",
        "  emb = (\n",
        "      pd.DataFrame(\n",
        "          [model.wv.get_vector(str(n)) for n in graph.nodes()],\n",
        "        index = graph.nodes\n",
        "      )\n",
        "  )\n",
        "  return emb\n",
        "\n",
        "# ------------------------------------------------------#\n",
        "\n",
        "def partitioning(clusters_embedding_dfNUM):\n",
        "\n",
        "  partition = [[],[],[]]\n",
        "\n",
        "  for i in range(len(clusters_embedding_dfNUM['cluster'])):\n",
        "\n",
        "      if int(clusters_embedding_dfNUM['cluster'][i]) == 0:\n",
        "          partition[0].append(int(clusters_embedding_dfNUM['book_id'][i]))\n",
        "\n",
        "      elif int(clusters_embedding_dfNUM['cluster'][i]) == 1:\n",
        "          partition[1].append(int(clusters_embedding_dfNUM['book_id'][i]))\n",
        "\n",
        "      else:\n",
        "          partition[2].append(int(clusters_embedding_dfNUM['book_id'][i]))\n",
        "\n",
        "  return partition\n",
        "\n",
        "# ------------------------------------------------------#\n",
        "\n",
        "def purityCalc(l,n,c):\n",
        "    purity=0\n",
        "    array=[]\n",
        "    summation=[]\n",
        "    maximum=[]\n",
        "    for i in range(len(l)):\n",
        "        array.append([l[i],n[i],c[i]])\n",
        "    for j in array:\n",
        "        summation.append(sum(j))\n",
        "        maximum.append(max(j))\n",
        "    purity=sum(maximum)/sum(summation)\n",
        "    return purity\n",
        "\n",
        "# ------------------------------------------------------#\n",
        "\n",
        "def searchCommunity(dictionary,communities):\n",
        "    l=[0 for i in range(len(communities))]\n",
        "    c=[0 for i in range(len(communities))]\n",
        "    n=[0 for i in range(len(communities))]\n",
        "    for i in communities:\n",
        "        for j in i:\n",
        "            if dictionary[j][\"value\"]==\"l\":\n",
        "                l[communities.index(i)]+=1\n",
        "            elif dictionary[j][\"value\"]==\"n\":\n",
        "                n[communities.index(i)]+=1\n",
        "            elif dictionary[j][\"value\"]==\"c\":\n",
        "                c[communities.index(i)]+=1\n",
        "            else:\n",
        "                continue\n",
        "\n",
        "    purity=purityCalc(l,n,c)\n",
        "\n",
        "    return purity\n",
        "\n",
        "# ------------------------------------------------------#\n",
        "\n",
        "def get_df_name(df):\n",
        "    name =[x for x in globals() if globals()[x] is df][0]\n",
        "    return name\n",
        "\n",
        "# ------------------------------------------------------#\n",
        "\n",
        "def visualization(graph, dataframe):\n",
        "\n",
        "  import pandas as pd\n",
        "  import matplotlib.pyplot as plt\n",
        "  from sklearn.manifold import TSNE\n",
        "  import numpy as np\n",
        "\n",
        "  # Variables needed for plotting\n",
        "  embedding = np.array(dataframe.iloc[:,:-1].values.tolist())\n",
        "  ids = dataframe.index.tolist()\n",
        "  node_targets = [graph.nodes[int(node_id)]['value'] for node_id in ids]\n",
        "\n",
        "  node_2d_emb = TSNE(n_components=2, learning_rate='auto', init='random').fit_transform(embedding)\n",
        "\n",
        "  label_map_cluster = {l: i for i, l in enumerate(np.unique(node_targets))}\n",
        "\n",
        "  # Node color lists for visualization\n",
        "  node_colours_cluster = []\n",
        "  for target_1 in node_targets:\n",
        "      if label_map_cluster[target_1] == 0:\n",
        "          node_colours_cluster.append(\"red\")\n",
        "      elif label_map_cluster[target_1] == 1:\n",
        "          node_colours_cluster.append(\"green\")\n",
        "      else:\n",
        "          node_colours_cluster.append(\"blue\")\n",
        "\n",
        "  label_map_ground_truth = { l: i for i, l in enumerate(np.unique(dataframe['cluster']))}\n",
        "\n",
        "  # Node color lists for visualization\n",
        "  node_colours_ground_truth = []\n",
        "  for target_2 in dataframe['cluster']:\n",
        "      if label_map_ground_truth[target_2] == 0:\n",
        "          node_colours_ground_truth.append(\"red\")\n",
        "      elif label_map_ground_truth[target_2] == 1:\n",
        "          node_colours_ground_truth.append(\"green\")\n",
        "      else:\n",
        "          node_colours_ground_truth.append(\"blue\")\n",
        "\n",
        "  # Create subplots\n",
        "  fig, axes = plt.subplots(1, 2, figsize=(10, 5))\n",
        "\n",
        "  # Plot the first scatter plot\n",
        "  axes[0].scatter(node_2d_emb[:,0], node_2d_emb[:,1], c = node_colours_cluster, alpha = 0.5)\n",
        "  axes[0].set_title(\"Cluster Visualization\")\n",
        "\n",
        "  # Plot the second scatter plot\n",
        "  axes[1].scatter(node_2d_emb[:,0], node_2d_emb[:,1], c = node_colours_ground_truth, alpha = 1)\n",
        "  axes[1].set_title(\"Ground Truth Visualization\")\n",
        "\n",
        "  # Add general title\n",
        "  if get_df_name(dataframe) == \"embedding_df_1\":\n",
        "    plt.suptitle(\"Visualization for Nove2Vec (q = 2 & p = 1)\")\n",
        "  elif get_df_name(dataframe) == \"embedding_df_2\":\n",
        "    plt.suptitle(\"Visualization for Nove2Vec (q = 0.5 & p = 1)\")\n",
        "  elif get_df_name(dataframe) == \"embedding_df_3\":\n",
        "    plt.suptitle(\"Visualization for Nove2Vec (q = 1 & p = 1)\")\n",
        "\n",
        "  # Display the plots\n",
        "  plt.tight_layout()\n",
        "  plt.show()\n",
        "\n",
        "# ------------------------------------------------------#\n",
        "\n",
        "def node2vecs_predictions(graph, embedding_model):\n",
        "\n",
        "  '''\n",
        "  The original author of the code is Vatsal P.\n",
        "  Original code implementation can be found here:\n",
        "  https://towardsdatascience.com/link-prediction-recommendation-engines-with-node2vec-c97c429351a8\n",
        "  '''\n",
        "\n",
        "  from sklearn.svm import SVC\n",
        "  from sklearn.tree import DecisionTreeClassifier\n",
        "  from sklearn.naive_bayes import GaussianNB\n",
        "  from sklearn.ensemble import GradientBoostingClassifier\n",
        "\n",
        "  #create training data\n",
        "  unique_nodes = list(graph.nodes())\n",
        "  all_possible_edges = [(x,y) for (x,y) in product(unique_nodes, unique_nodes)]\n",
        "\n",
        "  # generate edge features for all pairs of nodes\n",
        "  edge_features = [(embedding_model.wv.get_vector(str(i)) + embedding_model.wv.get_vector(str(j))) for i,j in all_possible_edges]\n",
        "\n",
        "  # get current edges in the network\n",
        "  edges = list(graph.edges())\n",
        "\n",
        "  # create target list, 1 if the pair exists in the network, 0 otherwise\n",
        "  is_con = [1 if e in edges else 0 for e in all_possible_edges]\n",
        "\n",
        "  #train the model\n",
        "  # get training and target data\n",
        "  X = np.array(edge_features)\n",
        "  y = is_con\n",
        "\n",
        "  # train test split\n",
        "  x_train, x_test, y_train, y_test = train_test_split(X, y, test_size = 0.3)\n",
        "\n",
        "  # Decision Tree\n",
        "  clf_DT = DecisionTreeClassifier(max_depth=5)\n",
        "  clf_DT.fit(x_train, y_train)\n",
        "  # Model Performance\n",
        "  y_pred_DT = clf_DT.predict(x_test)\n",
        "  test_acc_DT = accuracy_score(y_test, y_pred_DT)\n",
        "  print(\"Printing Metrics for Decision Tree Classification\\n================================================\")\n",
        "  print(\"Testing Accuracy : \", test_acc_DT)\n",
        "  print(\"Classification Report : \")\n",
        "  print(classification_report(y_test, y_pred_DT))\n",
        "\n",
        "  # Naive Bayes\n",
        "  clf_NB = GaussianNB()\n",
        "  clf_NB.fit(x_train, y_train)\n",
        "  # Decision Tree\n",
        "  clf_NB = DecisionTreeClassifier(max_depth=5)\n",
        "  clf_NB.fit(x_train, y_train)\n",
        "  # Model Performance\n",
        "  y_pred_NB = clf_NB.predict(x_test)\n",
        "  test_acc_NB = accuracy_score(y_test, y_pred_NB)\n",
        "  print(\"Printing Metrics for Naive Bayes Classification\\n================================================\")\n",
        "  print(\"Testing Accuracy : \", test_acc_NB)\n",
        "  print(\"Classification Report : \")\n",
        "  print(classification_report(y_test, y_pred_NB))\n",
        "\n",
        "  # Gradient Boosting Classifier\n",
        "  clf_GB = GradientBoostingClassifier()\n",
        "  clf_GB.fit(x_train, y_train)\n",
        "  # Model Performance\n",
        "  y_pred_GB = clf_GB.predict(x_test)\n",
        "  test_acc_GB = accuracy_score(y_test, y_pred_GB)\n",
        "  print(\"Printing Metrics for Gradient Boosting Classifier\\n================================================\")\n",
        "  print(\"Testing Accuracy : \", test_acc_GB)\n",
        "  print(\"Classification Report : \")\n",
        "  print(classification_report(y_test, y_pred_GB))\n",
        "\n",
        "  # k-nearest neighbors Classifier\n",
        "  clf_Kn = KNeighborsClassifier()\n",
        "  clf_Kn.fit(x_train, y_train)\n",
        "  # Model Performance\n",
        "  y_pred_Kn = clf_Kn.predict(x_test)\n",
        "  test_acc_Kn = accuracy_score(y_test, y_pred_Kn)\n",
        "  print(\"Printing Metrics for k-nearest neighbors Classifier\\n================================================\")\n",
        "  print(\"Testing Accuracy : \", test_acc_Kn)\n",
        "  print(\"Classification Report : \")\n",
        "  print(classification_report(y_test, y_pred_Kn))\n",
        "\n",
        "  # SVM\n",
        "  clf_SVM = SVC(C=0.025)\n",
        "  clf_SVM.fit(x_train, y_train)\n",
        "  # Model Performance\n",
        "  y_pred_SVM = clf_SVM.predict(x_test)\n",
        "  test_acc_SVM = accuracy_score(y_test, y_pred_SVM)\n",
        "  print(\"Printing Metrics for SVM Classification\\n================================================\")\n",
        "  print(\"Testing Accuracy : \", test_acc_SVM)\n",
        "  print(\"Classification Report : \")\n",
        "  print(classification_report(y_test, y_pred_SVM))"
      ]
    },
    {
      "attachments": {},
      "cell_type": "markdown",
      "metadata": {
        "id": "Qw_qfjHIyvRu"
      },
      "source": [
        "## Pre-processing"
      ]
    },
    {
      "cell_type": "code",
      "execution_count": null,
      "metadata": {
        "id": "L5tVd6bhyzPe"
      },
      "outputs": [],
      "source": [
        "H = nx.read_gml(\"./polbooks.gml\", label='id')\n",
        "G = nx.Graph(H).subgraph(max(nx.connected_components(nx.Graph(H)), key=len))"
      ]
    },
    {
      "cell_type": "code",
      "execution_count": null,
      "metadata": {
        "colab": {
          "base_uri": "https://localhost:8080/"
        },
        "id": "h8MSIUicIUfo",
        "outputId": "eb9a9890-7845-44e1-c5de-2c287a9bacfe"
      },
      "outputs": [
        {
          "name": "stdout",
          "output_type": "stream",
          "text": [
            "The polbooks.gml subgraph of strongly connected component is size of: 105 nodes, and 441 total edges.\n"
          ]
        }
      ],
      "source": [
        "print(\"The polbooks.gml subgraph of strongly connected component is size of:\", len(G.nodes()), \"nodes, and\", len(G.edges()), \"total edges.\")"
      ]
    },
    {
      "attachments": {},
      "cell_type": "markdown",
      "metadata": {
        "id": "g6AuyL72TgF8"
      },
      "source": [
        "## Metrics for Ground Truth"
      ]
    },
    {
      "cell_type": "code",
      "execution_count": 13,
      "metadata": {
        "colab": {
          "base_uri": "https://localhost:8080/"
        },
        "id": "Q8EPxK9UTVe_",
        "outputId": "357c3898-6f44-4389-8c1e-5ffad87a64f7"
      },
      "outputs": [
        {
          "name": "stdout",
          "output_type": "stream",
          "text": [
            "Printing Metrics for Ground Truth Communities \n",
            "=======================\n",
            "Modularity is: 0.4149\n",
            "Purity is: 1.0000\n"
          ]
        }
      ],
      "source": [
        "# The following code extracts the value of each node in order to\n",
        "# create a list that includes all of them in order to measure the\n",
        "# metrics needed. The exact same chunk of code was used inside the\n",
        "# communityDetectionTechniques.\n",
        "\n",
        "ground_truth = nx.get_node_attributes(G, 'value')\n",
        "\n",
        "groundTruthComm_l = [node for node, value in ground_truth.items() if value == 'l']\n",
        "groundTruthComm_n = [node for node, value in ground_truth.items() if value == 'n']\n",
        "groundTruthComm_c = [node for node, value in ground_truth.items() if value == 'c']\n",
        "\n",
        "groundTruthList = []\n",
        "groundTruthList.append(groundTruthComm_l)\n",
        "groundTruthList.append(groundTruthComm_n)\n",
        "groundTruthList.append(groundTruthComm_c)\n",
        "\n",
        "# Metrics for Ground Truth Communities\n",
        "print(\"Printing Metrics for Ground Truth Communities \\n=======================\")\n",
        "\n",
        "modularity_GT = nx.algorithms.community.modularity(G, groundTruthList)\n",
        "print(\"Modularity is:\", \"{:.4f}\".format(modularity_GT))\n",
        "\n",
        "purity_GT = searchCommunity(G.nodes, groundTruthList)\n",
        "print(\"Purity is:\", \"{:.4f}\".format(purity_GT))"
      ]
    },
    {
      "attachments": {},
      "cell_type": "markdown",
      "metadata": {
        "id": "7dQWiJL6Jc-D"
      },
      "source": [
        "## Creation of Node2Vec embeddings & Dataframes"
      ]
    },
    {
      "cell_type": "code",
      "execution_count": null,
      "metadata": {
        "colab": {
          "base_uri": "https://localhost:8080/",
          "height": 113,
          "referenced_widgets": [
            "c5db202b938c466b8e06b0b134b7fb31",
            "075fc2b41bf34cfebf6677c103e4f4c5",
            "c0c9c27230374a0ab99e684fe5a156db",
            "483620751b02439988c70f8288a259b0",
            "ba4f514be1084f96a53f6eafcc4ba7dc",
            "6fdc8e9acc894f31bec0c0b742f59fdd",
            "750824e8c99340079bd408d138541fa1",
            "b27cc3d669f54b3e8d1c44cc932a0d39",
            "fff34b7cf853416da4349ab59c91b65b",
            "ffbb8766c7df40a5bc00799d621713c7",
            "d406d51308aa46e999a1c379cfdf3278",
            "5c60ae97bcaf498eb2fe4ace8368e85f",
            "02814b51d81e44afb09aed691fa347ac",
            "355c093ded99437fb93156b98daac41f",
            "e8ead005ee124a30be775413df0d8339",
            "b731a75f898c47a7bfc4525c503f0070",
            "23e28714d89948298e1c4954c2db5dda",
            "26f82139261e436f9f0d161ae4fbea03",
            "a8ba4d1f40294562b9d86b52fbe837d9",
            "84af5471ca584fb4976ed26600d26b9a",
            "8ba956783d834b0aaa092fa1e2421bdf",
            "158d435db0b247ffa4ec84d1bd63c1df",
            "c6127554087a420f90cd9dde8c4899a6",
            "c9ec8d3b373a4b3b8a8a6662cc1ca558",
            "b8bb66f8ada74d72afd273e0c9cf6f1e",
            "d300c2334195472cb6c71dcfdbf4c82d",
            "89faaeb728944a26a8b06a943468cf05",
            "15331d8f3a12485b84c1ab761e0af179",
            "8fd5dd35a3aa4ee991e7ce3bcfdd083d",
            "d4ce6520c04748bfafea84f8977d7d2a",
            "76f2532745f1407b83d61c3e5f2dc5e6",
            "e22f8fa784eb477ab4c62581006d1588",
            "ea579b57b4f24acabbd0a3f317ebae18"
          ]
        },
        "id": "HCbGbFa3IUdX",
        "outputId": "92a28005-1959-4b87-bd79-776aecd0e527"
      },
      "outputs": [
        {
          "data": {
            "application/vnd.jupyter.widget-view+json": {
              "model_id": "c5db202b938c466b8e06b0b134b7fb31",
              "version_major": 2,
              "version_minor": 0
            },
            "text/plain": [
              "Computing transition probabilities:   0%|          | 0/105 [00:00<?, ?it/s]"
            ]
          },
          "metadata": {},
          "output_type": "display_data"
        },
        {
          "data": {
            "application/vnd.jupyter.widget-view+json": {
              "model_id": "5c60ae97bcaf498eb2fe4ace8368e85f",
              "version_major": 2,
              "version_minor": 0
            },
            "text/plain": [
              "Computing transition probabilities:   0%|          | 0/105 [00:00<?, ?it/s]"
            ]
          },
          "metadata": {},
          "output_type": "display_data"
        },
        {
          "data": {
            "application/vnd.jupyter.widget-view+json": {
              "model_id": "c6127554087a420f90cd9dde8c4899a6",
              "version_major": 2,
              "version_minor": 0
            },
            "text/plain": [
              "Computing transition probabilities:   0%|          | 0/105 [00:00<?, ?it/s]"
            ]
          },
          "metadata": {},
          "output_type": "display_data"
        }
      ],
      "source": [
        "embedding_1 = Node2Vec(G, dimensions = 64, num_walks = 40, workers = 4, q = 2, p = 1)\n",
        "embedding_2 = Node2Vec(G, dimensions = 64, num_walks = 40, workers = 4, q = 0.5, p = 1)\n",
        "embedding_3 = Node2Vec(G, dimensions = 64, num_walks = 40, workers = 4, q = 1, p = 1)"
      ]
    },
    {
      "cell_type": "code",
      "execution_count": null,
      "metadata": {
        "id": "-w8XVD9sMC_l"
      },
      "outputs": [],
      "source": [
        "embedding_model_1 = embedding_1.fit(window = 10, min_count = 1)\n",
        "embedding_model_2 = embedding_2.fit(window = 10, min_count = 1)\n",
        "embedding_model_3 = embedding_3.fit(window = 10, min_count = 1)"
      ]
    },
    {
      "cell_type": "code",
      "execution_count": null,
      "metadata": {
        "colab": {
          "base_uri": "https://localhost:8080/"
        },
        "id": "wmbip6YfIUT0",
        "outputId": "7f35a92c-0672-4df1-bc71-7308207650cd"
      },
      "outputs": [
        {
          "name": "stdout",
          "output_type": "stream",
          "text": [
            "Created Dataframes look like this:\n",
            "               0         1         2         3         4         5         6   \\\n",
            "book_id                                                                         \n",
            "0        0.214968 -0.323092  0.180528  0.122254  0.302057 -0.172102  0.026010   \n",
            "1        0.218695 -0.057395  0.219408  0.041948  0.395311 -0.085582  0.063945   \n",
            "2        0.290005 -0.075244  0.281484  0.300179  0.336700  0.078769  0.246411   \n",
            "3        0.273315 -0.189131  0.309162  0.033976  0.137186  0.061870  0.214263   \n",
            "4       -0.048836  0.079245 -0.015926  0.069419  0.465965 -0.278102 -0.084410   \n",
            "...           ...       ...       ...       ...       ...       ...       ...   \n",
            "100      0.084393 -0.249120  0.237311 -0.041499 -0.079344 -0.379502 -0.152211   \n",
            "101      0.009476 -0.131380  0.313995 -0.223317 -0.071184 -0.233511  0.035170   \n",
            "102     -0.134254 -0.165633  0.102453 -0.139726  0.000598 -0.253049  0.167760   \n",
            "103     -0.206374 -0.129079  0.134142  0.344840 -0.134203  0.087917 -0.087654   \n",
            "104     -0.063496 -0.030521  0.193011  0.265431 -0.162330  0.059991  0.013627   \n",
            "\n",
            "               7         8         9   ...        54        55        56  \\\n",
            "book_id                                ...                                 \n",
            "0        0.226391 -0.274500 -0.148250  ...  0.182887  0.257789  0.254395   \n",
            "1        0.123134 -0.421998 -0.219789  ...  0.308110  0.298760  0.126044   \n",
            "2        0.044928 -0.072459 -0.067814  ...  0.168600  0.334204  0.164079   \n",
            "3        0.073913 -0.390511 -0.191047  ...  0.056637  0.226568  0.247601   \n",
            "4       -0.197116  0.127772  0.046317  ...  0.249402  0.174039  0.210302   \n",
            "...           ...       ...       ...  ...       ...       ...       ...   \n",
            "100     -0.302162  0.100180  0.174619  ...  0.013219 -0.025845 -0.019600   \n",
            "101      0.211638  0.012409  0.356779  ...  0.078861 -0.060895 -0.067092   \n",
            "102      0.052662 -0.087498  0.290133  ... -0.176997 -0.124197  0.048255   \n",
            "103     -0.571060  0.064410  0.058822  ...  0.282152 -0.113058 -0.168116   \n",
            "104     -0.573268 -0.031025 -0.168409  ...  0.309836 -0.245488 -0.083288   \n",
            "\n",
            "               57        58        59        60        61        62        63  \n",
            "book_id                                                                        \n",
            "0        0.263448 -0.265004  0.362040 -0.014635 -0.038742 -0.382086  0.253452  \n",
            "1        0.301184 -0.367603  0.272355 -0.210788  0.104589 -0.303321  0.189951  \n",
            "2        0.234236 -0.083034  0.199673 -0.242936 -0.028392 -0.550294  0.213010  \n",
            "3       -0.056373 -0.122466  0.121093  0.179615  0.206021  0.018772  0.265083  \n",
            "4        0.139105 -0.053066  0.233375 -0.081753 -0.130194 -0.346158  0.174839  \n",
            "...           ...       ...       ...       ...       ...       ...       ...  \n",
            "100      0.211477  0.458485  0.058991 -0.319028  0.002645  0.139454  0.374210  \n",
            "101      0.249432  0.404418 -0.004606 -0.063743  0.163898  0.007956  0.238467  \n",
            "102      0.365462  0.040084 -0.183076  0.004095  0.356457 -0.160583  0.034236  \n",
            "103      0.347798  0.144339  0.604630  0.008077 -0.537788 -0.049295 -0.327332  \n",
            "104      0.110319  0.302698  0.290654  0.072578 -0.477233 -0.119295 -0.353915  \n",
            "\n",
            "[105 rows x 64 columns]\n"
          ]
        }
      ],
      "source": [
        "embedding_df_1 = model_to_dataframe(embedding_model_1, G)\n",
        "embedding_df_2 = model_to_dataframe(embedding_model_2, G)\n",
        "embedding_df_3 = model_to_dataframe(embedding_model_3, G)\n",
        "\n",
        "embedding_df_1.index.name = 'book_id'\n",
        "embedding_df_2.index.name = 'book_id'\n",
        "embedding_df_3.index.name = 'book_id'\n",
        "\n",
        "print(\"Created Dataframes look like this:\")\n",
        "print(embedding_df_3)"
      ]
    },
    {
      "attachments": {},
      "cell_type": "markdown",
      "metadata": {
        "id": "GFspIoFpY3Lm"
      },
      "source": [
        "# **(1)** Node Embeddings - Link Prediction"
      ]
    },
    {
      "attachments": {},
      "cell_type": "markdown",
      "metadata": {
        "id": "7s4h4Y8ceAOO"
      },
      "source": [
        "Model Performance"
      ]
    },
    {
      "attachments": {},
      "cell_type": "markdown",
      "metadata": {
        "id": "DskcDhwr4ZTr"
      },
      "source": [
        "### Metrics for Node2Vec (q = 2 & p = 1)"
      ]
    },
    {
      "cell_type": "code",
      "execution_count": null,
      "metadata": {
        "colab": {
          "base_uri": "https://localhost:8080/"
        },
        "id": "FBsVyE8TTf7k",
        "outputId": "7d1f4118-5df8-4397-8bff-ff7ab448bb16"
      },
      "outputs": [
        {
          "name": "stdout",
          "output_type": "stream",
          "text": [
            "Printing Metrics for Decision Tree Classification\n",
            "================================================\n",
            "Testing Accuracy :  0.9489117291414753\n",
            "Classification Report : \n",
            "              precision    recall  f1-score   support\n",
            "\n",
            "           0       0.96      0.99      0.97      3176\n",
            "           1       0.05      0.02      0.02       132\n",
            "\n",
            "    accuracy                           0.95      3308\n",
            "   macro avg       0.50      0.50      0.50      3308\n",
            "weighted avg       0.92      0.95      0.94      3308\n",
            "\n",
            "Printing Metrics for Naive Bayes Classification\n",
            "================================================\n",
            "Testing Accuracy :  0.9489117291414753\n",
            "Classification Report : \n",
            "              precision    recall  f1-score   support\n",
            "\n",
            "           0       0.96      0.99      0.97      3176\n",
            "           1       0.05      0.02      0.02       132\n",
            "\n",
            "    accuracy                           0.95      3308\n",
            "   macro avg       0.50      0.50      0.50      3308\n",
            "weighted avg       0.92      0.95      0.94      3308\n",
            "\n",
            "Printing Metrics for Gradient Boosting Classifier\n",
            "================================================\n",
            "Testing Accuracy :  0.9452841596130592\n",
            "Classification Report : \n",
            "              precision    recall  f1-score   support\n",
            "\n",
            "           0       0.96      0.98      0.97      3176\n",
            "           1       0.00      0.00      0.00       132\n",
            "\n",
            "    accuracy                           0.95      3308\n",
            "   macro avg       0.48      0.49      0.49      3308\n",
            "weighted avg       0.92      0.95      0.93      3308\n",
            "\n",
            "Printing Metrics for k-nearest neighbors Classifier\n",
            "================================================\n",
            "Testing Accuracy :  0.9501209189842805\n",
            "Classification Report : \n",
            "              precision    recall  f1-score   support\n",
            "\n",
            "           0       0.96      0.99      0.97      3176\n",
            "           1       0.21      0.09      0.13       132\n",
            "\n",
            "    accuracy                           0.95      3308\n",
            "   macro avg       0.59      0.54      0.55      3308\n",
            "weighted avg       0.93      0.95      0.94      3308\n",
            "\n",
            "Printing Metrics for SVM Classification\n",
            "================================================\n",
            "Testing Accuracy :  0.9600967351874244\n",
            "Classification Report : \n",
            "              precision    recall  f1-score   support\n",
            "\n",
            "           0       0.96      1.00      0.98      3176\n",
            "           1       0.00      0.00      0.00       132\n",
            "\n",
            "    accuracy                           0.96      3308\n",
            "   macro avg       0.48      0.50      0.49      3308\n",
            "weighted avg       0.92      0.96      0.94      3308\n",
            "\n"
          ]
        },
        {
          "name": "stderr",
          "output_type": "stream",
          "text": [
            "/usr/local/lib/python3.10/dist-packages/sklearn/metrics/_classification.py:1344: UndefinedMetricWarning: Precision and F-score are ill-defined and being set to 0.0 in labels with no predicted samples. Use `zero_division` parameter to control this behavior.\n",
            "  _warn_prf(average, modifier, msg_start, len(result))\n",
            "/usr/local/lib/python3.10/dist-packages/sklearn/metrics/_classification.py:1344: UndefinedMetricWarning: Precision and F-score are ill-defined and being set to 0.0 in labels with no predicted samples. Use `zero_division` parameter to control this behavior.\n",
            "  _warn_prf(average, modifier, msg_start, len(result))\n",
            "/usr/local/lib/python3.10/dist-packages/sklearn/metrics/_classification.py:1344: UndefinedMetricWarning: Precision and F-score are ill-defined and being set to 0.0 in labels with no predicted samples. Use `zero_division` parameter to control this behavior.\n",
            "  _warn_prf(average, modifier, msg_start, len(result))\n"
          ]
        }
      ],
      "source": [
        "node2vecs_predictions(G, embedding_model_1)"
      ]
    },
    {
      "attachments": {},
      "cell_type": "markdown",
      "metadata": {
        "id": "KUfPa4iA4Z3y"
      },
      "source": [
        "### Metrics for Node2Vec (q = 0.5 & p = 1)"
      ]
    },
    {
      "cell_type": "code",
      "execution_count": null,
      "metadata": {
        "colab": {
          "base_uri": "https://localhost:8080/"
        },
        "id": "eSZxRwaD4UlS",
        "outputId": "dd90a1b5-cbed-4aa1-8929-3e81dad3444c"
      },
      "outputs": [
        {
          "name": "stdout",
          "output_type": "stream",
          "text": [
            "Printing Metrics for Decision Tree Classification\n",
            "================================================\n",
            "Testing Accuracy :  0.9558645707376058\n",
            "Classification Report : \n",
            "              precision    recall  f1-score   support\n",
            "\n",
            "           0       0.96      1.00      0.98      3170\n",
            "           1       0.10      0.01      0.01       138\n",
            "\n",
            "    accuracy                           0.96      3308\n",
            "   macro avg       0.53      0.50      0.50      3308\n",
            "weighted avg       0.92      0.96      0.94      3308\n",
            "\n",
            "Printing Metrics for Naive Bayes Classification\n",
            "================================================\n",
            "Testing Accuracy :  0.9558645707376058\n",
            "Classification Report : \n",
            "              precision    recall  f1-score   support\n",
            "\n",
            "           0       0.96      1.00      0.98      3170\n",
            "           1       0.10      0.01      0.01       138\n",
            "\n",
            "    accuracy                           0.96      3308\n",
            "   macro avg       0.53      0.50      0.50      3308\n",
            "weighted avg       0.92      0.96      0.94      3308\n",
            "\n",
            "Printing Metrics for Gradient Boosting Classifier\n",
            "================================================\n",
            "Testing Accuracy :  0.9461910519951633\n",
            "Classification Report : \n",
            "              precision    recall  f1-score   support\n",
            "\n",
            "           0       0.96      0.99      0.97      3170\n",
            "           1       0.05      0.01      0.02       138\n",
            "\n",
            "    accuracy                           0.95      3308\n",
            "   macro avg       0.50      0.50      0.50      3308\n",
            "weighted avg       0.92      0.95      0.93      3308\n",
            "\n",
            "Printing Metrics for k-nearest neighbors Classifier\n",
            "================================================\n",
            "Testing Accuracy :  0.9474002418379686\n",
            "Classification Report : \n",
            "              precision    recall  f1-score   support\n",
            "\n",
            "           0       0.96      0.99      0.97      3170\n",
            "           1       0.14      0.05      0.07       138\n",
            "\n",
            "    accuracy                           0.95      3308\n",
            "   macro avg       0.55      0.52      0.52      3308\n",
            "weighted avg       0.93      0.95      0.94      3308\n",
            "\n",
            "Printing Metrics for SVM Classification\n",
            "================================================\n",
            "Testing Accuracy :  0.9582829504232164\n",
            "Classification Report : \n",
            "              precision    recall  f1-score   support\n",
            "\n",
            "           0       0.96      1.00      0.98      3170\n",
            "           1       0.00      0.00      0.00       138\n",
            "\n",
            "    accuracy                           0.96      3308\n",
            "   macro avg       0.48      0.50      0.49      3308\n",
            "weighted avg       0.92      0.96      0.94      3308\n",
            "\n"
          ]
        },
        {
          "name": "stderr",
          "output_type": "stream",
          "text": [
            "/usr/local/lib/python3.10/dist-packages/sklearn/metrics/_classification.py:1344: UndefinedMetricWarning: Precision and F-score are ill-defined and being set to 0.0 in labels with no predicted samples. Use `zero_division` parameter to control this behavior.\n",
            "  _warn_prf(average, modifier, msg_start, len(result))\n",
            "/usr/local/lib/python3.10/dist-packages/sklearn/metrics/_classification.py:1344: UndefinedMetricWarning: Precision and F-score are ill-defined and being set to 0.0 in labels with no predicted samples. Use `zero_division` parameter to control this behavior.\n",
            "  _warn_prf(average, modifier, msg_start, len(result))\n",
            "/usr/local/lib/python3.10/dist-packages/sklearn/metrics/_classification.py:1344: UndefinedMetricWarning: Precision and F-score are ill-defined and being set to 0.0 in labels with no predicted samples. Use `zero_division` parameter to control this behavior.\n",
            "  _warn_prf(average, modifier, msg_start, len(result))\n"
          ]
        }
      ],
      "source": [
        "node2vecs_predictions(G, embedding_model_2)"
      ]
    },
    {
      "attachments": {},
      "cell_type": "markdown",
      "metadata": {
        "id": "yueFxyya4aJe"
      },
      "source": [
        "### Metrics for Node2Vec (q = 1 & p = 1)"
      ]
    },
    {
      "cell_type": "code",
      "execution_count": null,
      "metadata": {
        "colab": {
          "base_uri": "https://localhost:8080/"
        },
        "id": "wVmBbxFx4Ux0",
        "outputId": "f36cbe5a-9a42-4569-e7fd-226ea6b9dd00"
      },
      "outputs": [
        {
          "name": "stdout",
          "output_type": "stream",
          "text": [
            "Printing Metrics for Decision Tree Classification\n",
            "================================================\n",
            "Testing Accuracy :  0.9582829504232164\n",
            "Classification Report : \n",
            "              precision    recall  f1-score   support\n",
            "\n",
            "           0       0.96      0.99      0.98      3184\n",
            "           1       0.11      0.02      0.03       124\n",
            "\n",
            "    accuracy                           0.96      3308\n",
            "   macro avg       0.54      0.51      0.50      3308\n",
            "weighted avg       0.93      0.96      0.94      3308\n",
            "\n",
            "Printing Metrics for Naive Bayes Classification\n",
            "================================================\n",
            "Testing Accuracy :  0.9582829504232164\n",
            "Classification Report : \n",
            "              precision    recall  f1-score   support\n",
            "\n",
            "           0       0.96      1.00      0.98      3184\n",
            "           1       0.06      0.01      0.01       124\n",
            "\n",
            "    accuracy                           0.96      3308\n",
            "   macro avg       0.51      0.50      0.50      3308\n",
            "weighted avg       0.93      0.96      0.94      3308\n",
            "\n",
            "Printing Metrics for Gradient Boosting Classifier\n",
            "================================================\n",
            "Testing Accuracy :  0.9501209189842805\n",
            "Classification Report : \n",
            "              precision    recall  f1-score   support\n",
            "\n",
            "           0       0.96      0.99      0.97      3184\n",
            "           1       0.04      0.02      0.02       124\n",
            "\n",
            "    accuracy                           0.95      3308\n",
            "   macro avg       0.50      0.50      0.50      3308\n",
            "weighted avg       0.93      0.95      0.94      3308\n",
            "\n",
            "Printing Metrics for k-nearest neighbors Classifier\n",
            "================================================\n",
            "Testing Accuracy :  0.9531438935912938\n",
            "Classification Report : \n",
            "              precision    recall  f1-score   support\n",
            "\n",
            "           0       0.96      0.99      0.98      3184\n",
            "           1       0.14      0.05      0.07       124\n",
            "\n",
            "    accuracy                           0.95      3308\n",
            "   macro avg       0.55      0.52      0.52      3308\n",
            "weighted avg       0.93      0.95      0.94      3308\n",
            "\n",
            "Printing Metrics for SVM Classification\n",
            "================================================\n",
            "Testing Accuracy :  0.9625151148730351\n",
            "Classification Report : \n",
            "              precision    recall  f1-score   support\n",
            "\n",
            "           0       0.96      1.00      0.98      3184\n",
            "           1       0.00      0.00      0.00       124\n",
            "\n",
            "    accuracy                           0.96      3308\n",
            "   macro avg       0.48      0.50      0.49      3308\n",
            "weighted avg       0.93      0.96      0.94      3308\n",
            "\n"
          ]
        },
        {
          "name": "stderr",
          "output_type": "stream",
          "text": [
            "/usr/local/lib/python3.10/dist-packages/sklearn/metrics/_classification.py:1344: UndefinedMetricWarning: Precision and F-score are ill-defined and being set to 0.0 in labels with no predicted samples. Use `zero_division` parameter to control this behavior.\n",
            "  _warn_prf(average, modifier, msg_start, len(result))\n",
            "/usr/local/lib/python3.10/dist-packages/sklearn/metrics/_classification.py:1344: UndefinedMetricWarning: Precision and F-score are ill-defined and being set to 0.0 in labels with no predicted samples. Use `zero_division` parameter to control this behavior.\n",
            "  _warn_prf(average, modifier, msg_start, len(result))\n",
            "/usr/local/lib/python3.10/dist-packages/sklearn/metrics/_classification.py:1344: UndefinedMetricWarning: Precision and F-score are ill-defined and being set to 0.0 in labels with no predicted samples. Use `zero_division` parameter to control this behavior.\n",
            "  _warn_prf(average, modifier, msg_start, len(result))\n"
          ]
        }
      ],
      "source": [
        "node2vecs_predictions(G, embedding_model_3)"
      ]
    },
    {
      "attachments": {},
      "cell_type": "markdown",
      "metadata": {
        "id": "RR5tZ9kLzOSa"
      },
      "source": [
        "# **(2)** Node Embeddings - Clustering"
      ]
    },
    {
      "attachments": {},
      "cell_type": "markdown",
      "metadata": {
        "id": "LFceLuA21D6p"
      },
      "source": [
        "### Embeddings Clustering"
      ]
    },
    {
      "cell_type": "code",
      "execution_count": null,
      "metadata": {
        "colab": {
          "base_uri": "https://localhost:8080/"
        },
        "id": "r5Lm1fGyIURH",
        "outputId": "bbf9660e-8d98-46e1-adfd-a4ac588971a7"
      },
      "outputs": [
        {
          "name": "stderr",
          "output_type": "stream",
          "text": [
            "/usr/local/lib/python3.10/dist-packages/sklearn/cluster/_kmeans.py:870: FutureWarning: The default value of `n_init` will change from 10 to 'auto' in 1.4. Set the value of `n_init` explicitly to suppress the warning\n",
            "  warnings.warn(\n",
            "/usr/local/lib/python3.10/dist-packages/sklearn/cluster/_kmeans.py:870: FutureWarning: The default value of `n_init` will change from 10 to 'auto' in 1.4. Set the value of `n_init` explicitly to suppress the warning\n",
            "  warnings.warn(\n",
            "/usr/local/lib/python3.10/dist-packages/sklearn/cluster/_kmeans.py:870: FutureWarning: The default value of `n_init` will change from 10 to 'auto' in 1.4. Set the value of `n_init` explicitly to suppress the warning\n",
            "  warnings.warn(\n"
          ]
        }
      ],
      "source": [
        "kmeans_embedding_1 = KMeans(n_clusters=3)\n",
        "kmeans_embedding_2 = KMeans(n_clusters=3)\n",
        "kmeans_embedding_3 = KMeans(n_clusters=3)\n",
        "\n",
        "kmeans_embedding_1.fit(embedding_df_1)\n",
        "kmeans_embedding_2.fit(embedding_df_2)\n",
        "kmeans_embedding_3.fit(embedding_df_3)\n",
        "\n",
        "labels_1 = kmeans_embedding_1.predict(embedding_df_1)\n",
        "labels_2 = kmeans_embedding_2.predict(embedding_df_2)\n",
        "labels_3 = kmeans_embedding_3.predict(embedding_df_3)"
      ]
    },
    {
      "cell_type": "code",
      "execution_count": null,
      "metadata": {
        "colab": {
          "base_uri": "https://localhost:8080/"
        },
        "id": "BC4OBwKRQC69",
        "outputId": "9990980b-f0dc-4909-f52d-df7a75948820"
      },
      "outputs": [
        {
          "name": "stdout",
          "output_type": "stream",
          "text": [
            "Created Clusters Dataframes look like this:\n",
            "     book_id  cluster\n",
            "0          0        0\n",
            "1          1        0\n",
            "2          2        0\n",
            "3          3        0\n",
            "4          4        0\n",
            "..       ...      ...\n",
            "100      100        2\n",
            "101      101        2\n",
            "102      102        2\n",
            "103      103        1\n",
            "104      104        1\n",
            "\n",
            "[105 rows x 2 columns]\n"
          ]
        }
      ],
      "source": [
        "embedding_df_1['cluster'] = labels_1\n",
        "embedding_df_2['cluster'] = labels_2\n",
        "embedding_df_3['cluster'] = labels_3\n",
        "\n",
        "clusters_embedding_df1 = embedding_df_1['cluster']\n",
        "clusters_embedding_df2 = embedding_df_2['cluster']\n",
        "clusters_embedding_df3 = embedding_df_3['cluster']\n",
        "\n",
        "clusters_embedding_df1 = embedding_df_1.reset_index()[['book_id','cluster']]\n",
        "clusters_embedding_df2 = embedding_df_2.reset_index()[['book_id','cluster']]\n",
        "clusters_embedding_df3 = embedding_df_3.reset_index()[['book_id','cluster']]\n",
        "\n",
        "print(\"Created Clusters Dataframes look like this:\")\n",
        "print(clusters_embedding_df3)"
      ]
    },
    {
      "cell_type": "code",
      "execution_count": null,
      "metadata": {
        "id": "yQX_E10F2kUu"
      },
      "outputs": [],
      "source": [
        "partitioning_1 = partitioning(clusters_embedding_df1)\n",
        "partitioning_2 = partitioning(clusters_embedding_df2)\n",
        "partitioning_3 = partitioning(clusters_embedding_df3)"
      ]
    },
    {
      "attachments": {},
      "cell_type": "markdown",
      "metadata": {
        "id": "AuhGEFZb4wRb"
      },
      "source": [
        "### Clustering Results"
      ]
    },
    {
      "cell_type": "code",
      "execution_count": null,
      "metadata": {
        "colab": {
          "base_uri": "https://localhost:8080/"
        },
        "id": "XRqXVFUR46xn",
        "outputId": "26bb4d81-e8a7-4461-b9c3-4755668c893b"
      },
      "outputs": [
        {
          "name": "stdout",
          "output_type": "stream",
          "text": [
            "Printing Metrics for Node2Vec with q = 2 & p = 1\n",
            "================================================\n",
            "Modularity is: 0.5017\n",
            "Purity is: 0.8476\n",
            "\n",
            "Printing Metrics for Node2Vec with q = 0.5 & p = 1\n",
            "==================================================\n",
            "Modularity is: 0.4986\n",
            "Purity is: 0.8476\n",
            "\n",
            "Printing Metrics for Node2Vec with q = 1 & p = 1\n",
            "================================================\n",
            "Modularity is: 0.5017\n",
            "Purity is: 0.8476\n"
          ]
        }
      ],
      "source": [
        "# Metrics for Node2Vec (q = 2 & p = 1)\n",
        "print(\"Printing Metrics for Node2Vec with q = 2 & p = 1\\n================================================\")\n",
        "\n",
        "modularity_A = nx.algorithms.community.modularity(G, partitioning_1)\n",
        "print(\"Modularity is:\", \"{:.4f}\".format(modularity_A))\n",
        "\n",
        "purity_A = searchCommunity(G.nodes, partitioning_1)\n",
        "print(\"Purity is:\", \"{:.4f}\".format(purity_A))\n",
        "\n",
        "\n",
        "# Metrics for Node2Vec (q = 0.5 & p = 1)\n",
        "print(\"\\nPrinting Metrics for Node2Vec with q = 0.5 & p = 1\\n==================================================\")\n",
        "\n",
        "modularity_B = nx.algorithms.community.modularity(G, partitioning_2)\n",
        "print(\"Modularity is:\", \"{:.4f}\".format(modularity_B))\n",
        "\n",
        "purity_B = searchCommunity(G.nodes, partitioning_2)\n",
        "print(\"Purity is:\", \"{:.4f}\".format(purity_B))\n",
        "\n",
        "\n",
        "# Metrics for Node2Vec (q = 1 & p = 1)\n",
        "print(\"\\nPrinting Metrics for Node2Vec with q = 1 & p = 1\\n================================================\")\n",
        "\n",
        "modularity_C = nx.algorithms.community.modularity(G, partitioning_3)\n",
        "print(\"Modularity is:\", \"{:.4f}\".format(modularity_C))\n",
        "\n",
        "purity_C = searchCommunity(G.nodes, partitioning_3)\n",
        "print(\"Purity is:\", \"{:.4f}\".format(purity_C))"
      ]
    },
    {
      "attachments": {},
      "cell_type": "markdown",
      "metadata": {
        "id": "yPcjbh_z53Ow"
      },
      "source": [
        "### Clustering Visualization"
      ]
    },
    {
      "attachments": {},
      "cell_type": "markdown",
      "metadata": {
        "id": "JKW0jboI57ou"
      },
      "source": [
        "#### Node2Vec (q = 2 & p = 1)"
      ]
    },
    {
      "cell_type": "code",
      "execution_count": null,
      "metadata": {
        "colab": {
          "base_uri": "https://localhost:8080/",
          "height": 373
        },
        "id": "iAF8kNGBFANt",
        "outputId": "fc61a454-34a4-42cb-cc2c-4f1aa6ee72a3"
      },
      "outputs": [
        {
          "data": {
            "image/png": "[encoded data removed]",
            "text/plain": [
              "<Figure size 1000x500 with 2 Axes>"
            ]
          },
          "metadata": {},
          "output_type": "display_data"
        }
      ],
      "source": [
        "visualization(G, embedding_df_1)"
      ]
    },
    {
      "attachments": {},
      "cell_type": "markdown",
      "metadata": {
        "id": "9-aGwSFs6GyS"
      },
      "source": [
        "#### Node2Vec (q = 0.5 & p = 1)"
      ]
    },
    {
      "cell_type": "code",
      "execution_count": null,
      "metadata": {
        "colab": {
          "base_uri": "https://localhost:8080/",
          "height": 373
        },
        "id": "pzYCHVBcHyVd",
        "outputId": "a3f89443-1b1a-4505-c9ca-f6cf4260d3bb"
      },
      "outputs": [
        {
          "data": {
            "image/png": "[encoded data removed]",
            "text/plain": [
              "<Figure size 1000x500 with 2 Axes>"
            ]
          },
          "metadata": {},
          "output_type": "display_data"
        }
      ],
      "source": [
        "visualization(G, embedding_df_2)"
      ]
    },
    {
      "attachments": {},
      "cell_type": "markdown",
      "metadata": {
        "id": "Yi-iL5Lm6H4R"
      },
      "source": [
        "#### Node2Vec (q = 1 & p = 1)"
      ]
    },
    {
      "cell_type": "code",
      "execution_count": null,
      "metadata": {
        "colab": {
          "base_uri": "https://localhost:8080/",
          "height": 373
        },
        "id": "2L8HByD_J7gw",
        "outputId": "2f780220-0a5a-4b0b-d95b-3e0fcfed35ca"
      },
      "outputs": [
        {
          "data": {
            "image/png": "[encoded data removed]",
            "text/plain": [
              "<Figure size 1000x500 with 2 Axes>"
            ]
          },
          "metadata": {},
          "output_type": "display_data"
        }
      ],
      "source": [
        "visualization(G, embedding_df_3)"
      ]
    }
  ],
  "metadata": {
    "colab": {
      "collapsed_sections": [
        "Jnz1We77xcaJ",
        "s-DhP7PvxqEi",
        "T-WQJp7LyT2J",
        "Qw_qfjHIyvRu",
        "7dQWiJL6Jc-D",
        "GFspIoFpY3Lm",
        "DskcDhwr4ZTr",
        "KUfPa4iA4Z3y",
        "yueFxyya4aJe",
        "RR5tZ9kLzOSa",
        "LFceLuA21D6p",
        "AuhGEFZb4wRb",
        "yPcjbh_z53Ow",
        "JKW0jboI57ou",
        "9-aGwSFs6GyS",
        "Yi-iL5Lm6H4R"
      ],
      "provenance": []
    },
    "kernelspec": {
      "display_name": "Python 3",
      "name": "python3"
    },
    "language_info": {
      "name": "python"
    },
    "widgets": {
      "application/vnd.jupyter.widget-state+json": {
        "02814b51d81e44afb09aed691fa347ac": {
          "model_module": "@jupyter-widgets/controls",
          "model_module_version": "1.5.0",
          "model_name": "HTMLModel",
          "state": {
            "_dom_classes": [],
            "_model_module": "@jupyter-widgets/controls",
            "_model_module_version": "1.5.0",
            "_model_name": "HTMLModel",
            "_view_count": null,
            "_view_module": "@jupyter-widgets/controls",
            "_view_module_version": "1.5.0",
            "_view_name": "HTMLView",
            "description": "",
            "description_tooltip": null,
            "layout": "IPY_MODEL_23e28714d89948298e1c4954c2db5dda",
            "placeholder": "​",
            "style": "IPY_MODEL_26f82139261e436f9f0d161ae4fbea03",
            "value": "Computing transition probabilities: 100%"
          }
        },
        "075fc2b41bf34cfebf6677c103e4f4c5": {
          "model_module": "@jupyter-widgets/controls",
          "model_module_version": "1.5.0",
          "model_name": "HTMLModel",
          "state": {
            "_dom_classes": [],
            "_model_module": "@jupyter-widgets/controls",
            "_model_module_version": "1.5.0",
            "_model_name": "HTMLModel",
            "_view_count": null,
            "_view_module": "@jupyter-widgets/controls",
            "_view_module_version": "1.5.0",
            "_view_name": "HTMLView",
            "description": "",
            "description_tooltip": null,
            "layout": "IPY_MODEL_6fdc8e9acc894f31bec0c0b742f59fdd",
            "placeholder": "​",
            "style": "IPY_MODEL_750824e8c99340079bd408d138541fa1",
            "value": "Computing transition probabilities: 100%"
          }
        },
        "15331d8f3a12485b84c1ab761e0af179": {
          "model_module": "@jupyter-widgets/base",
          "model_module_version": "1.2.0",
          "model_name": "LayoutModel",
          "state": {
            "_model_module": "@jupyter-widgets/base",
            "_model_module_version": "1.2.0",
            "_model_name": "LayoutModel",
            "_view_count": null,
            "_view_module": "@jupyter-widgets/base",
            "_view_module_version": "1.2.0",
            "_view_name": "LayoutView",
            "align_content": null,
            "align_items": null,
            "align_self": null,
            "border": null,
            "bottom": null,
            "display": null,
            "flex": null,
            "flex_flow": null,
            "grid_area": null,
            "grid_auto_columns": null,
            "grid_auto_flow": null,
            "grid_auto_rows": null,
            "grid_column": null,
            "grid_gap": null,
            "grid_row": null,
            "grid_template_areas": null,
            "grid_template_columns": null,
            "grid_template_rows": null,
            "height": null,
            "justify_content": null,
            "justify_items": null,
            "left": null,
            "margin": null,
            "max_height": null,
            "max_width": null,
            "min_height": null,
            "min_width": null,
            "object_fit": null,
            "object_position": null,
            "order": null,
            "overflow": null,
            "overflow_x": null,
            "overflow_y": null,
            "padding": null,
            "right": null,
            "top": null,
            "visibility": null,
            "width": null
          }
        },
        "158d435db0b247ffa4ec84d1bd63c1df": {
          "model_module": "@jupyter-widgets/controls",
          "model_module_version": "1.5.0",
          "model_name": "DescriptionStyleModel",
          "state": {
            "_model_module": "@jupyter-widgets/controls",
            "_model_module_version": "1.5.0",
            "_model_name": "DescriptionStyleModel",
            "_view_count": null,
            "_view_module": "@jupyter-widgets/base",
            "_view_module_version": "1.2.0",
            "_view_name": "StyleView",
            "description_width": ""
          }
        },
        "23e28714d89948298e1c4954c2db5dda": {
          "model_module": "@jupyter-widgets/base",
          "model_module_version": "1.2.0",
          "model_name": "LayoutModel",
          "state": {
            "_model_module": "@jupyter-widgets/base",
            "_model_module_version": "1.2.0",
            "_model_name": "LayoutModel",
            "_view_count": null,
            "_view_module": "@jupyter-widgets/base",
            "_view_module_version": "1.2.0",
            "_view_name": "LayoutView",
            "align_content": null,
            "align_items": null,
            "align_self": null,
            "border": null,
            "bottom": null,
            "display": null,
            "flex": null,
            "flex_flow": null,
            "grid_area": null,
            "grid_auto_columns": null,
            "grid_auto_flow": null,
            "grid_auto_rows": null,
            "grid_column": null,
            "grid_gap": null,
            "grid_row": null,
            "grid_template_areas": null,
            "grid_template_columns": null,
            "grid_template_rows": null,
            "height": null,
            "justify_content": null,
            "justify_items": null,
            "left": null,
            "margin": null,
            "max_height": null,
            "max_width": null,
            "min_height": null,
            "min_width": null,
            "object_fit": null,
            "object_position": null,
            "order": null,
            "overflow": null,
            "overflow_x": null,
            "overflow_y": null,
            "padding": null,
            "right": null,
            "top": null,
            "visibility": null,
            "width": null
          }
        },
        "26f82139261e436f9f0d161ae4fbea03": {
          "model_module": "@jupyter-widgets/controls",
          "model_module_version": "1.5.0",
          "model_name": "DescriptionStyleModel",
          "state": {
            "_model_module": "@jupyter-widgets/controls",
            "_model_module_version": "1.5.0",
            "_model_name": "DescriptionStyleModel",
            "_view_count": null,
            "_view_module": "@jupyter-widgets/base",
            "_view_module_version": "1.2.0",
            "_view_name": "StyleView",
            "description_width": ""
          }
        },
        "355c093ded99437fb93156b98daac41f": {
          "model_module": "@jupyter-widgets/controls",
          "model_module_version": "1.5.0",
          "model_name": "FloatProgressModel",
          "state": {
            "_dom_classes": [],
            "_model_module": "@jupyter-widgets/controls",
            "_model_module_version": "1.5.0",
            "_model_name": "FloatProgressModel",
            "_view_count": null,
            "_view_module": "@jupyter-widgets/controls",
            "_view_module_version": "1.5.0",
            "_view_name": "ProgressView",
            "bar_style": "success",
            "description": "",
            "description_tooltip": null,
            "layout": "IPY_MODEL_a8ba4d1f40294562b9d86b52fbe837d9",
            "max": 105,
            "min": 0,
            "orientation": "horizontal",
            "style": "IPY_MODEL_84af5471ca584fb4976ed26600d26b9a",
            "value": 105
          }
        },
        "483620751b02439988c70f8288a259b0": {
          "model_module": "@jupyter-widgets/controls",
          "model_module_version": "1.5.0",
          "model_name": "HTMLModel",
          "state": {
            "_dom_classes": [],
            "_model_module": "@jupyter-widgets/controls",
            "_model_module_version": "1.5.0",
            "_model_name": "HTMLModel",
            "_view_count": null,
            "_view_module": "@jupyter-widgets/controls",
            "_view_module_version": "1.5.0",
            "_view_name": "HTMLView",
            "description": "",
            "description_tooltip": null,
            "layout": "IPY_MODEL_ffbb8766c7df40a5bc00799d621713c7",
            "placeholder": "​",
            "style": "IPY_MODEL_d406d51308aa46e999a1c379cfdf3278",
            "value": " 105/105 [00:00&lt;00:00, 338.39it/s]"
          }
        },
        "5c60ae97bcaf498eb2fe4ace8368e85f": {
          "model_module": "@jupyter-widgets/controls",
          "model_module_version": "1.5.0",
          "model_name": "HBoxModel",
          "state": {
            "_dom_classes": [],
            "_model_module": "@jupyter-widgets/controls",
            "_model_module_version": "1.5.0",
            "_model_name": "HBoxModel",
            "_view_count": null,
            "_view_module": "@jupyter-widgets/controls",
            "_view_module_version": "1.5.0",
            "_view_name": "HBoxView",
            "box_style": "",
            "children": [
              "IPY_MODEL_02814b51d81e44afb09aed691fa347ac",
              "IPY_MODEL_355c093ded99437fb93156b98daac41f",
              "IPY_MODEL_e8ead005ee124a30be775413df0d8339"
            ],
            "layout": "IPY_MODEL_b731a75f898c47a7bfc4525c503f0070"
          }
        },
        "6fdc8e9acc894f31bec0c0b742f59fdd": {
          "model_module": "@jupyter-widgets/base",
          "model_module_version": "1.2.0",
          "model_name": "LayoutModel",
          "state": {
            "_model_module": "@jupyter-widgets/base",
            "_model_module_version": "1.2.0",
            "_model_name": "LayoutModel",
            "_view_count": null,
            "_view_module": "@jupyter-widgets/base",
            "_view_module_version": "1.2.0",
            "_view_name": "LayoutView",
            "align_content": null,
            "align_items": null,
            "align_self": null,
            "border": null,
            "bottom": null,
            "display": null,
            "flex": null,
            "flex_flow": null,
            "grid_area": null,
            "grid_auto_columns": null,
            "grid_auto_flow": null,
            "grid_auto_rows": null,
            "grid_column": null,
            "grid_gap": null,
            "grid_row": null,
            "grid_template_areas": null,
            "grid_template_columns": null,
            "grid_template_rows": null,
            "height": null,
            "justify_content": null,
            "justify_items": null,
            "left": null,
            "margin": null,
            "max_height": null,
            "max_width": null,
            "min_height": null,
            "min_width": null,
            "object_fit": null,
            "object_position": null,
            "order": null,
            "overflow": null,
            "overflow_x": null,
            "overflow_y": null,
            "padding": null,
            "right": null,
            "top": null,
            "visibility": null,
            "width": null
          }
        },
        "750824e8c99340079bd408d138541fa1": {
          "model_module": "@jupyter-widgets/controls",
          "model_module_version": "1.5.0",
          "model_name": "DescriptionStyleModel",
          "state": {
            "_model_module": "@jupyter-widgets/controls",
            "_model_module_version": "1.5.0",
            "_model_name": "DescriptionStyleModel",
            "_view_count": null,
            "_view_module": "@jupyter-widgets/base",
            "_view_module_version": "1.2.0",
            "_view_name": "StyleView",
            "description_width": ""
          }
        },
        "76f2532745f1407b83d61c3e5f2dc5e6": {
          "model_module": "@jupyter-widgets/controls",
          "model_module_version": "1.5.0",
          "model_name": "ProgressStyleModel",
          "state": {
            "_model_module": "@jupyter-widgets/controls",
            "_model_module_version": "1.5.0",
            "_model_name": "ProgressStyleModel",
            "_view_count": null,
            "_view_module": "@jupyter-widgets/base",
            "_view_module_version": "1.2.0",
            "_view_name": "StyleView",
            "bar_color": null,
            "description_width": ""
          }
        },
        "84af5471ca584fb4976ed26600d26b9a": {
          "model_module": "@jupyter-widgets/controls",
          "model_module_version": "1.5.0",
          "model_name": "ProgressStyleModel",
          "state": {
            "_model_module": "@jupyter-widgets/controls",
            "_model_module_version": "1.5.0",
            "_model_name": "ProgressStyleModel",
            "_view_count": null,
            "_view_module": "@jupyter-widgets/base",
            "_view_module_version": "1.2.0",
            "_view_name": "StyleView",
            "bar_color": null,
            "description_width": ""
          }
        },
        "89faaeb728944a26a8b06a943468cf05": {
          "model_module": "@jupyter-widgets/base",
          "model_module_version": "1.2.0",
          "model_name": "LayoutModel",
          "state": {
            "_model_module": "@jupyter-widgets/base",
            "_model_module_version": "1.2.0",
            "_model_name": "LayoutModel",
            "_view_count": null,
            "_view_module": "@jupyter-widgets/base",
            "_view_module_version": "1.2.0",
            "_view_name": "LayoutView",
            "align_content": null,
            "align_items": null,
            "align_self": null,
            "border": null,
            "bottom": null,
            "display": null,
            "flex": null,
            "flex_flow": null,
            "grid_area": null,
            "grid_auto_columns": null,
            "grid_auto_flow": null,
            "grid_auto_rows": null,
            "grid_column": null,
            "grid_gap": null,
            "grid_row": null,
            "grid_template_areas": null,
            "grid_template_columns": null,
            "grid_template_rows": null,
            "height": null,
            "justify_content": null,
            "justify_items": null,
            "left": null,
            "margin": null,
            "max_height": null,
            "max_width": null,
            "min_height": null,
            "min_width": null,
            "object_fit": null,
            "object_position": null,
            "order": null,
            "overflow": null,
            "overflow_x": null,
            "overflow_y": null,
            "padding": null,
            "right": null,
            "top": null,
            "visibility": null,
            "width": null
          }
        },
        "8ba956783d834b0aaa092fa1e2421bdf": {
          "model_module": "@jupyter-widgets/base",
          "model_module_version": "1.2.0",
          "model_name": "LayoutModel",
          "state": {
            "_model_module": "@jupyter-widgets/base",
            "_model_module_version": "1.2.0",
            "_model_name": "LayoutModel",
            "_view_count": null,
            "_view_module": "@jupyter-widgets/base",
            "_view_module_version": "1.2.0",
            "_view_name": "LayoutView",
            "align_content": null,
            "align_items": null,
            "align_self": null,
            "border": null,
            "bottom": null,
            "display": null,
            "flex": null,
            "flex_flow": null,
            "grid_area": null,
            "grid_auto_columns": null,
            "grid_auto_flow": null,
            "grid_auto_rows": null,
            "grid_column": null,
            "grid_gap": null,
            "grid_row": null,
            "grid_template_areas": null,
            "grid_template_columns": null,
            "grid_template_rows": null,
            "height": null,
            "justify_content": null,
            "justify_items": null,
            "left": null,
            "margin": null,
            "max_height": null,
            "max_width": null,
            "min_height": null,
            "min_width": null,
            "object_fit": null,
            "object_position": null,
            "order": null,
            "overflow": null,
            "overflow_x": null,
            "overflow_y": null,
            "padding": null,
            "right": null,
            "top": null,
            "visibility": null,
            "width": null
          }
        },
        "8fd5dd35a3aa4ee991e7ce3bcfdd083d": {
          "model_module": "@jupyter-widgets/controls",
          "model_module_version": "1.5.0",
          "model_name": "DescriptionStyleModel",
          "state": {
            "_model_module": "@jupyter-widgets/controls",
            "_model_module_version": "1.5.0",
            "_model_name": "DescriptionStyleModel",
            "_view_count": null,
            "_view_module": "@jupyter-widgets/base",
            "_view_module_version": "1.2.0",
            "_view_name": "StyleView",
            "description_width": ""
          }
        },
        "a8ba4d1f40294562b9d86b52fbe837d9": {
          "model_module": "@jupyter-widgets/base",
          "model_module_version": "1.2.0",
          "model_name": "LayoutModel",
          "state": {
            "_model_module": "@jupyter-widgets/base",
            "_model_module_version": "1.2.0",
            "_model_name": "LayoutModel",
            "_view_count": null,
            "_view_module": "@jupyter-widgets/base",
            "_view_module_version": "1.2.0",
            "_view_name": "LayoutView",
            "align_content": null,
            "align_items": null,
            "align_self": null,
            "border": null,
            "bottom": null,
            "display": null,
            "flex": null,
            "flex_flow": null,
            "grid_area": null,
            "grid_auto_columns": null,
            "grid_auto_flow": null,
            "grid_auto_rows": null,
            "grid_column": null,
            "grid_gap": null,
            "grid_row": null,
            "grid_template_areas": null,
            "grid_template_columns": null,
            "grid_template_rows": null,
            "height": null,
            "justify_content": null,
            "justify_items": null,
            "left": null,
            "margin": null,
            "max_height": null,
            "max_width": null,
            "min_height": null,
            "min_width": null,
            "object_fit": null,
            "object_position": null,
            "order": null,
            "overflow": null,
            "overflow_x": null,
            "overflow_y": null,
            "padding": null,
            "right": null,
            "top": null,
            "visibility": null,
            "width": null
          }
        },
        "b27cc3d669f54b3e8d1c44cc932a0d39": {
          "model_module": "@jupyter-widgets/base",
          "model_module_version": "1.2.0",
          "model_name": "LayoutModel",
          "state": {
            "_model_module": "@jupyter-widgets/base",
            "_model_module_version": "1.2.0",
            "_model_name": "LayoutModel",
            "_view_count": null,
            "_view_module": "@jupyter-widgets/base",
            "_view_module_version": "1.2.0",
            "_view_name": "LayoutView",
            "align_content": null,
            "align_items": null,
            "align_self": null,
            "border": null,
            "bottom": null,
            "display": null,
            "flex": null,
            "flex_flow": null,
            "grid_area": null,
            "grid_auto_columns": null,
            "grid_auto_flow": null,
            "grid_auto_rows": null,
            "grid_column": null,
            "grid_gap": null,
            "grid_row": null,
            "grid_template_areas": null,
            "grid_template_columns": null,
            "grid_template_rows": null,
            "height": null,
            "justify_content": null,
            "justify_items": null,
            "left": null,
            "margin": null,
            "max_height": null,
            "max_width": null,
            "min_height": null,
            "min_width": null,
            "object_fit": null,
            "object_position": null,
            "order": null,
            "overflow": null,
            "overflow_x": null,
            "overflow_y": null,
            "padding": null,
            "right": null,
            "top": null,
            "visibility": null,
            "width": null
          }
        },
        "b731a75f898c47a7bfc4525c503f0070": {
          "model_module": "@jupyter-widgets/base",
          "model_module_version": "1.2.0",
          "model_name": "LayoutModel",
          "state": {
            "_model_module": "@jupyter-widgets/base",
            "_model_module_version": "1.2.0",
            "_model_name": "LayoutModel",
            "_view_count": null,
            "_view_module": "@jupyter-widgets/base",
            "_view_module_version": "1.2.0",
            "_view_name": "LayoutView",
            "align_content": null,
            "align_items": null,
            "align_self": null,
            "border": null,
            "bottom": null,
            "display": null,
            "flex": null,
            "flex_flow": null,
            "grid_area": null,
            "grid_auto_columns": null,
            "grid_auto_flow": null,
            "grid_auto_rows": null,
            "grid_column": null,
            "grid_gap": null,
            "grid_row": null,
            "grid_template_areas": null,
            "grid_template_columns": null,
            "grid_template_rows": null,
            "height": null,
            "justify_content": null,
            "justify_items": null,
            "left": null,
            "margin": null,
            "max_height": null,
            "max_width": null,
            "min_height": null,
            "min_width": null,
            "object_fit": null,
            "object_position": null,
            "order": null,
            "overflow": null,
            "overflow_x": null,
            "overflow_y": null,
            "padding": null,
            "right": null,
            "top": null,
            "visibility": null,
            "width": null
          }
        },
        "b8bb66f8ada74d72afd273e0c9cf6f1e": {
          "model_module": "@jupyter-widgets/controls",
          "model_module_version": "1.5.0",
          "model_name": "FloatProgressModel",
          "state": {
            "_dom_classes": [],
            "_model_module": "@jupyter-widgets/controls",
            "_model_module_version": "1.5.0",
            "_model_name": "FloatProgressModel",
            "_view_count": null,
            "_view_module": "@jupyter-widgets/controls",
            "_view_module_version": "1.5.0",
            "_view_name": "ProgressView",
            "bar_style": "success",
            "description": "",
            "description_tooltip": null,
            "layout": "IPY_MODEL_d4ce6520c04748bfafea84f8977d7d2a",
            "max": 105,
            "min": 0,
            "orientation": "horizontal",
            "style": "IPY_MODEL_76f2532745f1407b83d61c3e5f2dc5e6",
            "value": 105
          }
        },
        "ba4f514be1084f96a53f6eafcc4ba7dc": {
          "model_module": "@jupyter-widgets/base",
          "model_module_version": "1.2.0",
          "model_name": "LayoutModel",
          "state": {
            "_model_module": "@jupyter-widgets/base",
            "_model_module_version": "1.2.0",
            "_model_name": "LayoutModel",
            "_view_count": null,
            "_view_module": "@jupyter-widgets/base",
            "_view_module_version": "1.2.0",
            "_view_name": "LayoutView",
            "align_content": null,
            "align_items": null,
            "align_self": null,
            "border": null,
            "bottom": null,
            "display": null,
            "flex": null,
            "flex_flow": null,
            "grid_area": null,
            "grid_auto_columns": null,
            "grid_auto_flow": null,
            "grid_auto_rows": null,
            "grid_column": null,
            "grid_gap": null,
            "grid_row": null,
            "grid_template_areas": null,
            "grid_template_columns": null,
            "grid_template_rows": null,
            "height": null,
            "justify_content": null,
            "justify_items": null,
            "left": null,
            "margin": null,
            "max_height": null,
            "max_width": null,
            "min_height": null,
            "min_width": null,
            "object_fit": null,
            "object_position": null,
            "order": null,
            "overflow": null,
            "overflow_x": null,
            "overflow_y": null,
            "padding": null,
            "right": null,
            "top": null,
            "visibility": null,
            "width": null
          }
        },
        "c0c9c27230374a0ab99e684fe5a156db": {
          "model_module": "@jupyter-widgets/controls",
          "model_module_version": "1.5.0",
          "model_name": "FloatProgressModel",
          "state": {
            "_dom_classes": [],
            "_model_module": "@jupyter-widgets/controls",
            "_model_module_version": "1.5.0",
            "_model_name": "FloatProgressModel",
            "_view_count": null,
            "_view_module": "@jupyter-widgets/controls",
            "_view_module_version": "1.5.0",
            "_view_name": "ProgressView",
            "bar_style": "success",
            "description": "",
            "description_tooltip": null,
            "layout": "IPY_MODEL_b27cc3d669f54b3e8d1c44cc932a0d39",
            "max": 105,
            "min": 0,
            "orientation": "horizontal",
            "style": "IPY_MODEL_fff34b7cf853416da4349ab59c91b65b",
            "value": 105
          }
        },
        "c5db202b938c466b8e06b0b134b7fb31": {
          "model_module": "@jupyter-widgets/controls",
          "model_module_version": "1.5.0",
          "model_name": "HBoxModel",
          "state": {
            "_dom_classes": [],
            "_model_module": "@jupyter-widgets/controls",
            "_model_module_version": "1.5.0",
            "_model_name": "HBoxModel",
            "_view_count": null,
            "_view_module": "@jupyter-widgets/controls",
            "_view_module_version": "1.5.0",
            "_view_name": "HBoxView",
            "box_style": "",
            "children": [
              "IPY_MODEL_075fc2b41bf34cfebf6677c103e4f4c5",
              "IPY_MODEL_c0c9c27230374a0ab99e684fe5a156db",
              "IPY_MODEL_483620751b02439988c70f8288a259b0"
            ],
            "layout": "IPY_MODEL_ba4f514be1084f96a53f6eafcc4ba7dc"
          }
        },
        "c6127554087a420f90cd9dde8c4899a6": {
          "model_module": "@jupyter-widgets/controls",
          "model_module_version": "1.5.0",
          "model_name": "HBoxModel",
          "state": {
            "_dom_classes": [],
            "_model_module": "@jupyter-widgets/controls",
            "_model_module_version": "1.5.0",
            "_model_name": "HBoxModel",
            "_view_count": null,
            "_view_module": "@jupyter-widgets/controls",
            "_view_module_version": "1.5.0",
            "_view_name": "HBoxView",
            "box_style": "",
            "children": [
              "IPY_MODEL_c9ec8d3b373a4b3b8a8a6662cc1ca558",
              "IPY_MODEL_b8bb66f8ada74d72afd273e0c9cf6f1e",
              "IPY_MODEL_d300c2334195472cb6c71dcfdbf4c82d"
            ],
            "layout": "IPY_MODEL_89faaeb728944a26a8b06a943468cf05"
          }
        },
        "c9ec8d3b373a4b3b8a8a6662cc1ca558": {
          "model_module": "@jupyter-widgets/controls",
          "model_module_version": "1.5.0",
          "model_name": "HTMLModel",
          "state": {
            "_dom_classes": [],
            "_model_module": "@jupyter-widgets/controls",
            "_model_module_version": "1.5.0",
            "_model_name": "HTMLModel",
            "_view_count": null,
            "_view_module": "@jupyter-widgets/controls",
            "_view_module_version": "1.5.0",
            "_view_name": "HTMLView",
            "description": "",
            "description_tooltip": null,
            "layout": "IPY_MODEL_15331d8f3a12485b84c1ab761e0af179",
            "placeholder": "​",
            "style": "IPY_MODEL_8fd5dd35a3aa4ee991e7ce3bcfdd083d",
            "value": "Computing transition probabilities: 100%"
          }
        },
        "d300c2334195472cb6c71dcfdbf4c82d": {
          "model_module": "@jupyter-widgets/controls",
          "model_module_version": "1.5.0",
          "model_name": "HTMLModel",
          "state": {
            "_dom_classes": [],
            "_model_module": "@jupyter-widgets/controls",
            "_model_module_version": "1.5.0",
            "_model_name": "HTMLModel",
            "_view_count": null,
            "_view_module": "@jupyter-widgets/controls",
            "_view_module_version": "1.5.0",
            "_view_name": "HTMLView",
            "description": "",
            "description_tooltip": null,
            "layout": "IPY_MODEL_e22f8fa784eb477ab4c62581006d1588",
            "placeholder": "​",
            "style": "IPY_MODEL_ea579b57b4f24acabbd0a3f317ebae18",
            "value": " 105/105 [00:00&lt;00:00, 385.57it/s]"
          }
        },
        "d406d51308aa46e999a1c379cfdf3278": {
          "model_module": "@jupyter-widgets/controls",
          "model_module_version": "1.5.0",
          "model_name": "DescriptionStyleModel",
          "state": {
            "_model_module": "@jupyter-widgets/controls",
            "_model_module_version": "1.5.0",
            "_model_name": "DescriptionStyleModel",
            "_view_count": null,
            "_view_module": "@jupyter-widgets/base",
            "_view_module_version": "1.2.0",
            "_view_name": "StyleView",
            "description_width": ""
          }
        },
        "d4ce6520c04748bfafea84f8977d7d2a": {
          "model_module": "@jupyter-widgets/base",
          "model_module_version": "1.2.0",
          "model_name": "LayoutModel",
          "state": {
            "_model_module": "@jupyter-widgets/base",
            "_model_module_version": "1.2.0",
            "_model_name": "LayoutModel",
            "_view_count": null,
            "_view_module": "@jupyter-widgets/base",
            "_view_module_version": "1.2.0",
            "_view_name": "LayoutView",
            "align_content": null,
            "align_items": null,
            "align_self": null,
            "border": null,
            "bottom": null,
            "display": null,
            "flex": null,
            "flex_flow": null,
            "grid_area": null,
            "grid_auto_columns": null,
            "grid_auto_flow": null,
            "grid_auto_rows": null,
            "grid_column": null,
            "grid_gap": null,
            "grid_row": null,
            "grid_template_areas": null,
            "grid_template_columns": null,
            "grid_template_rows": null,
            "height": null,
            "justify_content": null,
            "justify_items": null,
            "left": null,
            "margin": null,
            "max_height": null,
            "max_width": null,
            "min_height": null,
            "min_width": null,
            "object_fit": null,
            "object_position": null,
            "order": null,
            "overflow": null,
            "overflow_x": null,
            "overflow_y": null,
            "padding": null,
            "right": null,
            "top": null,
            "visibility": null,
            "width": null
          }
        },
        "e22f8fa784eb477ab4c62581006d1588": {
          "model_module": "@jupyter-widgets/base",
          "model_module_version": "1.2.0",
          "model_name": "LayoutModel",
          "state": {
            "_model_module": "@jupyter-widgets/base",
            "_model_module_version": "1.2.0",
            "_model_name": "LayoutModel",
            "_view_count": null,
            "_view_module": "@jupyter-widgets/base",
            "_view_module_version": "1.2.0",
            "_view_name": "LayoutView",
            "align_content": null,
            "align_items": null,
            "align_self": null,
            "border": null,
            "bottom": null,
            "display": null,
            "flex": null,
            "flex_flow": null,
            "grid_area": null,
            "grid_auto_columns": null,
            "grid_auto_flow": null,
            "grid_auto_rows": null,
            "grid_column": null,
            "grid_gap": null,
            "grid_row": null,
            "grid_template_areas": null,
            "grid_template_columns": null,
            "grid_template_rows": null,
            "height": null,
            "justify_content": null,
            "justify_items": null,
            "left": null,
            "margin": null,
            "max_height": null,
            "max_width": null,
            "min_height": null,
            "min_width": null,
            "object_fit": null,
            "object_position": null,
            "order": null,
            "overflow": null,
            "overflow_x": null,
            "overflow_y": null,
            "padding": null,
            "right": null,
            "top": null,
            "visibility": null,
            "width": null
          }
        },
        "e8ead005ee124a30be775413df0d8339": {
          "model_module": "@jupyter-widgets/controls",
          "model_module_version": "1.5.0",
          "model_name": "HTMLModel",
          "state": {
            "_dom_classes": [],
            "_model_module": "@jupyter-widgets/controls",
            "_model_module_version": "1.5.0",
            "_model_name": "HTMLModel",
            "_view_count": null,
            "_view_module": "@jupyter-widgets/controls",
            "_view_module_version": "1.5.0",
            "_view_name": "HTMLView",
            "description": "",
            "description_tooltip": null,
            "layout": "IPY_MODEL_8ba956783d834b0aaa092fa1e2421bdf",
            "placeholder": "​",
            "style": "IPY_MODEL_158d435db0b247ffa4ec84d1bd63c1df",
            "value": " 105/105 [00:00&lt;00:00, 382.58it/s]"
          }
        },
        "ea579b57b4f24acabbd0a3f317ebae18": {
          "model_module": "@jupyter-widgets/controls",
          "model_module_version": "1.5.0",
          "model_name": "DescriptionStyleModel",
          "state": {
            "_model_module": "@jupyter-widgets/controls",
            "_model_module_version": "1.5.0",
            "_model_name": "DescriptionStyleModel",
            "_view_count": null,
            "_view_module": "@jupyter-widgets/base",
            "_view_module_version": "1.2.0",
            "_view_name": "StyleView",
            "description_width": ""
          }
        },
        "ffbb8766c7df40a5bc00799d621713c7": {
          "model_module": "@jupyter-widgets/base",
          "model_module_version": "1.2.0",
          "model_name": "LayoutModel",
          "state": {
            "_model_module": "@jupyter-widgets/base",
            "_model_module_version": "1.2.0",
            "_model_name": "LayoutModel",
            "_view_count": null,
            "_view_module": "@jupyter-widgets/base",
            "_view_module_version": "1.2.0",
            "_view_name": "LayoutView",
            "align_content": null,
            "align_items": null,
            "align_self": null,
            "border": null,
            "bottom": null,
            "display": null,
            "flex": null,
            "flex_flow": null,
            "grid_area": null,
            "grid_auto_columns": null,
            "grid_auto_flow": null,
            "grid_auto_rows": null,
            "grid_column": null,
            "grid_gap": null,
            "grid_row": null,
            "grid_template_areas": null,
            "grid_template_columns": null,
            "grid_template_rows": null,
            "height": null,
            "justify_content": null,
            "justify_items": null,
            "left": null,
            "margin": null,
            "max_height": null,
            "max_width": null,
            "min_height": null,
            "min_width": null,
            "object_fit": null,
            "object_position": null,
            "order": null,
            "overflow": null,
            "overflow_x": null,
            "overflow_y": null,
            "padding": null,
            "right": null,
            "top": null,
            "visibility": null,
            "width": null
          }
        },
        "fff34b7cf853416da4349ab59c91b65b": {
          "model_module": "@jupyter-widgets/controls",
          "model_module_version": "1.5.0",
          "model_name": "ProgressStyleModel",
          "state": {
            "_model_module": "@jupyter-widgets/controls",
            "_model_module_version": "1.5.0",
            "_model_name": "ProgressStyleModel",
            "_view_count": null,
            "_view_module": "@jupyter-widgets/base",
            "_view_module_version": "1.2.0",
            "_view_name": "StyleView",
            "bar_color": null,
            "description_width": ""
          }
        }
      }
    }
  },
  "nbformat": 4,
  "nbformat_minor": 0
}
